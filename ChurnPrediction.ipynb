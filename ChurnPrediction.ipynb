{
 "cells": [
  {
   "cell_type": "code",
   "execution_count": 1,
   "metadata": {},
   "outputs": [
    {
     "name": "stderr",
     "output_type": "stream",
     "text": [
      "/home/helga/anaconda3/envs/sklearn/lib/python3.7/site-packages/sklearn/utils/deprecation.py:144: FutureWarning: The sklearn.metrics.classification module is  deprecated in version 0.22 and will be removed in version 0.24. The corresponding classes / functions should instead be imported from sklearn.metrics. Anything that cannot be imported from sklearn.metrics is now part of the private API.\n",
      "  warnings.warn(message, FutureWarning)\n",
      "/home/helga/anaconda3/envs/sklearn/lib/python3.7/site-packages/sklearn/utils/deprecation.py:144: FutureWarning: The sklearn.metrics.scorer module is  deprecated in version 0.22 and will be removed in version 0.24. The corresponding classes / functions should instead be imported from sklearn.metrics. Anything that cannot be imported from sklearn.metrics is now part of the private API.\n",
      "  warnings.warn(message, FutureWarning)\n",
      "/home/helga/anaconda3/envs/sklearn/lib/python3.7/site-packages/sklearn/utils/deprecation.py:144: FutureWarning: The sklearn.feature_selection.base module is  deprecated in version 0.22 and will be removed in version 0.24. The corresponding classes / functions should instead be imported from sklearn.feature_selection. Anything that cannot be imported from sklearn.feature_selection is now part of the private API.\n",
      "  warnings.warn(message, FutureWarning)\n"
     ]
    },
    {
     "data": {
      "text/html": [
       "        <script type=\"text/javascript\">\n",
       "        window.PlotlyConfig = {MathJaxConfig: 'local'};\n",
       "        if (window.MathJax) {MathJax.Hub.Config({SVG: {font: \"STIX-Web\"}});}\n",
       "        if (typeof require !== 'undefined') {\n",
       "        require.undef(\"plotly\");\n",
       "        requirejs.config({\n",
       "            paths: {\n",
       "                'plotly': ['https://cdn.plot.ly/plotly-latest.min']\n",
       "            }\n",
       "        });\n",
       "        require(['plotly'], function(Plotly) {\n",
       "            window._Plotly = Plotly;\n",
       "        });\n",
       "        }\n",
       "        </script>\n",
       "        "
      ]
     },
     "metadata": {},
     "output_type": "display_data"
    },
    {
     "data": {
      "text/html": [
       "        <script type=\"text/javascript\">\n",
       "        window.PlotlyConfig = {MathJaxConfig: 'local'};\n",
       "        if (window.MathJax) {MathJax.Hub.Config({SVG: {font: \"STIX-Web\"}});}\n",
       "        if (typeof require !== 'undefined') {\n",
       "        require.undef(\"plotly\");\n",
       "        requirejs.config({\n",
       "            paths: {\n",
       "                'plotly': ['https://cdn.plot.ly/plotly-latest.min']\n",
       "            }\n",
       "        });\n",
       "        require(['plotly'], function(Plotly) {\n",
       "            window._Plotly = Plotly;\n",
       "        });\n",
       "        }\n",
       "        </script>\n",
       "        "
      ]
     },
     "metadata": {},
     "output_type": "display_data"
    }
   ],
   "source": [
    "import pandas as pd\n",
    "import matplotlib.pyplot as plt\n",
    "import seaborn as sns\n",
    "import numpy as np\n",
    "from sklearn.preprocessing import StandardScaler \n",
    "from sklearn.model_selection import cross_val_score, StratifiedKFold, KFold, train_test_split, GridSearchCV\n",
    "from sklearn.preprocessing import OneHotEncoder, LabelEncoder\n",
    "from sklearn.tree import DecisionTreeClassifier \n",
    "from sklearn.svm import SVC\n",
    "from sklearn.ensemble import AdaBoostClassifier,BaggingClassifier,GradientBoostingClassifier,RandomForestClassifier\n",
    "from sklearn.neighbors import KNeighborsClassifier\n",
    "from sklearn.linear_model import RidgeClassifier,LogisticRegression, Lasso\n",
    "from sklearn.metrics import accuracy_score,classification, confusion_matrix,classification_report,precision_score,roc_curve, recall_score, roc_auc_score \n",
    "import eli5\n",
    "import plotly.offline as py#visualization\n",
    "py.init_notebook_mode(connected=True)#visualization\n",
    "import plotly.graph_objs as go#visualization\n",
    "from plotly.offline import download_plotlyjs, init_notebook_mode, plot, iplot\n",
    "import plotly\n",
    "init_notebook_mode(connected=True)\n",
    "from IPython.display import Image\n",
    "import scipy\n",
    "from scipy.stats import norm\n",
    "from xgboost import XGBClassifier\n",
    "from lightgbm import LGBMClassifier\n",
    "from tqdm import tqdm_notebook\n",
    "from sklearn.pipeline import Pipeline \n",
    "from imblearn.over_sampling import RandomOverSampler, SMOTE# import Pipelin"
   ]
  },
  {
   "cell_type": "code",
   "execution_count": 2,
   "metadata": {},
   "outputs": [],
   "source": [
    "pd.options.display.max_columns = 500\n",
    "pd.options.display.max_rows = 1000"
   ]
  },
  {
   "cell_type": "code",
   "execution_count": 3,
   "metadata": {},
   "outputs": [],
   "source": [
    "import sys\n",
    "import warnings\n",
    "\n",
    "if not sys.warnoptions:\n",
    "    warnings.simplefilter(\"ignore\")"
   ]
  },
  {
   "cell_type": "markdown",
   "metadata": {},
   "source": [
    "## Data"
   ]
  },
  {
   "cell_type": "code",
   "execution_count": 4,
   "metadata": {},
   "outputs": [],
   "source": [
    "train_prepared = pd.read_csv('data/TRAIN_PREPARED.csv')\n",
    "train_raw = pd.read_csv('data/TRAIN_RAW_DATA.csv')\n",
    "train_additional_data = pd.read_csv('data/TRAIN_ADDITIONAL_DATA.csv')"
   ]
  },
  {
   "cell_type": "code",
   "execution_count": 5,
   "metadata": {},
   "outputs": [],
   "source": [
    "test_prepared = pd.read_csv('data/TEST_PREPARED.csv')\n",
    "test_raw = pd.read_csv('data/TEST_RAW_DATA.csv')\n",
    "test_additional_data = pd.read_csv('data/TEST_ADDITIONAL_DATA.csv')"
   ]
  },
  {
   "cell_type": "code",
   "execution_count": 38,
   "metadata": {},
   "outputs": [
    {
     "data": {
      "text/html": [
       "<div>\n",
       "<style scoped>\n",
       "    .dataframe tbody tr th:only-of-type {\n",
       "        vertical-align: middle;\n",
       "    }\n",
       "\n",
       "    .dataframe tbody tr th {\n",
       "        vertical-align: top;\n",
       "    }\n",
       "\n",
       "    .dataframe thead th {\n",
       "        text-align: right;\n",
       "    }\n",
       "</style>\n",
       "<table border=\"1\" class=\"dataframe\">\n",
       "  <thead>\n",
       "    <tr style=\"text-align: right;\">\n",
       "      <th></th>\n",
       "      <th>cut_date</th>\n",
       "      <th>days_to_end</th>\n",
       "      <th>first_date</th>\n",
       "      <th>last_date</th>\n",
       "      <th>num_country_max_1days</th>\n",
       "      <th>num_city_max_1days</th>\n",
       "      <th>android_max_1days</th>\n",
       "      <th>smarttv_max_1days</th>\n",
       "      <th>iphone_max_1days</th>\n",
       "      <th>ipad_max_1days</th>\n",
       "      <th>apple_max_1days</th>\n",
       "      <th>pc_max_1days</th>\n",
       "      <th>time_spent_sum_3days</th>\n",
       "      <th>time_spent_max_3days</th>\n",
       "      <th>num_title_ep_sum_3days</th>\n",
       "      <th>num_title_ep_max_3days</th>\n",
       "      <th>num_title_ru_sum_3days</th>\n",
       "      <th>num_title_ru_max_3days</th>\n",
       "      <th>num_country_max_3days</th>\n",
       "      <th>num_city_max_3days</th>\n",
       "      <th>other_content_sum_3days</th>\n",
       "      <th>top_1_sum_3days</th>\n",
       "      <th>top_2_sum_3days</th>\n",
       "      <th>top_3_sum_3days</th>\n",
       "      <th>top_4_sum_3days</th>\n",
       "      <th>top_5_sum_3days</th>\n",
       "      <th>top_6_sum_3days</th>\n",
       "      <th>top_7_sum_3days</th>\n",
       "      <th>top_8_sum_3days</th>\n",
       "      <th>top_9_sum_3days</th>\n",
       "      <th>top_10_sum_3days</th>\n",
       "      <th>android_max_3days</th>\n",
       "      <th>smarttv_max_3days</th>\n",
       "      <th>iphone_max_3days</th>\n",
       "      <th>ipad_max_3days</th>\n",
       "      <th>apple_max_3days</th>\n",
       "      <th>pc_max_3days</th>\n",
       "      <th>time_spent_sum_7days</th>\n",
       "      <th>time_spent_max_7days</th>\n",
       "      <th>num_title_ep_sum_7days</th>\n",
       "      <th>num_title_ep_max_7days</th>\n",
       "      <th>num_title_ru_sum_7days</th>\n",
       "      <th>num_title_ru_max_7days</th>\n",
       "      <th>num_country_max_7days</th>\n",
       "      <th>num_city_max_7days</th>\n",
       "      <th>other_content_sum_7days</th>\n",
       "      <th>top_1_sum_7days</th>\n",
       "      <th>top_2_sum_7days</th>\n",
       "      <th>top_3_sum_7days</th>\n",
       "      <th>top_4_sum_7days</th>\n",
       "      <th>top_5_sum_7days</th>\n",
       "      <th>top_6_sum_7days</th>\n",
       "      <th>top_7_sum_7days</th>\n",
       "      <th>top_8_sum_7days</th>\n",
       "      <th>top_9_sum_7days</th>\n",
       "      <th>top_10_sum_7days</th>\n",
       "      <th>android_max_7days</th>\n",
       "      <th>smarttv_max_7days</th>\n",
       "      <th>iphone_max_7days</th>\n",
       "      <th>ipad_max_7days</th>\n",
       "      <th>apple_max_7days</th>\n",
       "      <th>pc_max_7days</th>\n",
       "      <th>time_spent_sum_14days</th>\n",
       "      <th>time_spent_max_14days</th>\n",
       "      <th>num_title_ep_sum_14days</th>\n",
       "      <th>num_title_ep_max_14days</th>\n",
       "      <th>num_title_ru_sum_14days</th>\n",
       "      <th>num_title_ru_max_14days</th>\n",
       "      <th>num_country_max_14days</th>\n",
       "      <th>num_city_max_14days</th>\n",
       "      <th>other_content_sum_14days</th>\n",
       "      <th>top_1_sum_14days</th>\n",
       "      <th>top_2_sum_14days</th>\n",
       "      <th>top_3_sum_14days</th>\n",
       "      <th>top_4_sum_14days</th>\n",
       "      <th>top_5_sum_14days</th>\n",
       "      <th>top_6_sum_14days</th>\n",
       "      <th>top_7_sum_14days</th>\n",
       "      <th>top_8_sum_14days</th>\n",
       "      <th>top_9_sum_14days</th>\n",
       "      <th>top_10_sum_14days</th>\n",
       "      <th>android_max_14days</th>\n",
       "      <th>smarttv_max_14days</th>\n",
       "      <th>iphone_max_14days</th>\n",
       "      <th>ipad_max_14days</th>\n",
       "      <th>apple_max_14days</th>\n",
       "      <th>pc_max_14days</th>\n",
       "      <th>time_spent_sum_21days</th>\n",
       "      <th>time_spent_max_21days</th>\n",
       "      <th>num_title_ep_sum_21days</th>\n",
       "      <th>num_title_ep_max_21days</th>\n",
       "      <th>num_title_ru_sum_21days</th>\n",
       "      <th>num_title_ru_max_21days</th>\n",
       "      <th>num_country_max_21days</th>\n",
       "      <th>num_city_max_21days</th>\n",
       "      <th>other_content_sum_21days</th>\n",
       "      <th>top_1_sum_21days</th>\n",
       "      <th>top_2_sum_21days</th>\n",
       "      <th>top_3_sum_21days</th>\n",
       "      <th>top_4_sum_21days</th>\n",
       "      <th>top_5_sum_21days</th>\n",
       "      <th>top_6_sum_21days</th>\n",
       "      <th>top_7_sum_21days</th>\n",
       "      <th>top_8_sum_21days</th>\n",
       "      <th>top_9_sum_21days</th>\n",
       "      <th>top_10_sum_21days</th>\n",
       "      <th>android_max_21days</th>\n",
       "      <th>smarttv_max_21days</th>\n",
       "      <th>iphone_max_21days</th>\n",
       "      <th>ipad_max_21days</th>\n",
       "      <th>apple_max_21days</th>\n",
       "      <th>pc_max_21days</th>\n",
       "      <th>time_spent_sum_30days</th>\n",
       "      <th>time_spent_max_30days</th>\n",
       "      <th>num_title_ep_sum_30days</th>\n",
       "      <th>num_title_ep_max_30days</th>\n",
       "      <th>num_title_ru_sum_30days</th>\n",
       "      <th>num_title_ru_max_30days</th>\n",
       "      <th>num_country_max_30days</th>\n",
       "      <th>num_city_max_30days</th>\n",
       "      <th>other_content_sum_30days</th>\n",
       "      <th>top_1_sum_30days</th>\n",
       "      <th>top_2_sum_30days</th>\n",
       "      <th>top_3_sum_30days</th>\n",
       "      <th>top_4_sum_30days</th>\n",
       "      <th>top_5_sum_30days</th>\n",
       "      <th>top_6_sum_30days</th>\n",
       "      <th>top_7_sum_30days</th>\n",
       "      <th>top_8_sum_30days</th>\n",
       "      <th>top_9_sum_30days</th>\n",
       "      <th>top_10_sum_30days</th>\n",
       "      <th>android_max_30days</th>\n",
       "      <th>smarttv_max_30days</th>\n",
       "      <th>iphone_max_30days</th>\n",
       "      <th>ipad_max_30days</th>\n",
       "      <th>apple_max_30days</th>\n",
       "      <th>pc_max_30days</th>\n",
       "      <th>activity_1to3</th>\n",
       "      <th>activity_1to7</th>\n",
       "      <th>activity_1to14</th>\n",
       "      <th>activity_7to14</th>\n",
       "      <th>activity_7to21</th>\n",
       "      <th>activity_7to30</th>\n",
       "      <th>activity_14to30</th>\n",
       "      <th>label</th>\n",
       "    </tr>\n",
       "    <tr>\n",
       "      <th>email</th>\n",
       "      <th></th>\n",
       "      <th></th>\n",
       "      <th></th>\n",
       "      <th></th>\n",
       "      <th></th>\n",
       "      <th></th>\n",
       "      <th></th>\n",
       "      <th></th>\n",
       "      <th></th>\n",
       "      <th></th>\n",
       "      <th></th>\n",
       "      <th></th>\n",
       "      <th></th>\n",
       "      <th></th>\n",
       "      <th></th>\n",
       "      <th></th>\n",
       "      <th></th>\n",
       "      <th></th>\n",
       "      <th></th>\n",
       "      <th></th>\n",
       "      <th></th>\n",
       "      <th></th>\n",
       "      <th></th>\n",
       "      <th></th>\n",
       "      <th></th>\n",
       "      <th></th>\n",
       "      <th></th>\n",
       "      <th></th>\n",
       "      <th></th>\n",
       "      <th></th>\n",
       "      <th></th>\n",
       "      <th></th>\n",
       "      <th></th>\n",
       "      <th></th>\n",
       "      <th></th>\n",
       "      <th></th>\n",
       "      <th></th>\n",
       "      <th></th>\n",
       "      <th></th>\n",
       "      <th></th>\n",
       "      <th></th>\n",
       "      <th></th>\n",
       "      <th></th>\n",
       "      <th></th>\n",
       "      <th></th>\n",
       "      <th></th>\n",
       "      <th></th>\n",
       "      <th></th>\n",
       "      <th></th>\n",
       "      <th></th>\n",
       "      <th></th>\n",
       "      <th></th>\n",
       "      <th></th>\n",
       "      <th></th>\n",
       "      <th></th>\n",
       "      <th></th>\n",
       "      <th></th>\n",
       "      <th></th>\n",
       "      <th></th>\n",
       "      <th></th>\n",
       "      <th></th>\n",
       "      <th></th>\n",
       "      <th></th>\n",
       "      <th></th>\n",
       "      <th></th>\n",
       "      <th></th>\n",
       "      <th></th>\n",
       "      <th></th>\n",
       "      <th></th>\n",
       "      <th></th>\n",
       "      <th></th>\n",
       "      <th></th>\n",
       "      <th></th>\n",
       "      <th></th>\n",
       "      <th></th>\n",
       "      <th></th>\n",
       "      <th></th>\n",
       "      <th></th>\n",
       "      <th></th>\n",
       "      <th></th>\n",
       "      <th></th>\n",
       "      <th></th>\n",
       "      <th></th>\n",
       "      <th></th>\n",
       "      <th></th>\n",
       "      <th></th>\n",
       "      <th></th>\n",
       "      <th></th>\n",
       "      <th></th>\n",
       "      <th></th>\n",
       "      <th></th>\n",
       "      <th></th>\n",
       "      <th></th>\n",
       "      <th></th>\n",
       "      <th></th>\n",
       "      <th></th>\n",
       "      <th></th>\n",
       "      <th></th>\n",
       "      <th></th>\n",
       "      <th></th>\n",
       "      <th></th>\n",
       "      <th></th>\n",
       "      <th></th>\n",
       "      <th></th>\n",
       "      <th></th>\n",
       "      <th></th>\n",
       "      <th></th>\n",
       "      <th></th>\n",
       "      <th></th>\n",
       "      <th></th>\n",
       "      <th></th>\n",
       "      <th></th>\n",
       "      <th></th>\n",
       "      <th></th>\n",
       "      <th></th>\n",
       "      <th></th>\n",
       "      <th></th>\n",
       "      <th></th>\n",
       "      <th></th>\n",
       "      <th></th>\n",
       "      <th></th>\n",
       "      <th></th>\n",
       "      <th></th>\n",
       "      <th></th>\n",
       "      <th></th>\n",
       "      <th></th>\n",
       "      <th></th>\n",
       "      <th></th>\n",
       "      <th></th>\n",
       "      <th></th>\n",
       "      <th></th>\n",
       "      <th></th>\n",
       "      <th></th>\n",
       "      <th></th>\n",
       "      <th></th>\n",
       "      <th></th>\n",
       "      <th></th>\n",
       "      <th></th>\n",
       "      <th></th>\n",
       "      <th></th>\n",
       "      <th></th>\n",
       "      <th></th>\n",
       "      <th></th>\n",
       "      <th></th>\n",
       "      <th></th>\n",
       "    </tr>\n",
       "  </thead>\n",
       "  <tbody>\n",
       "    <tr>\n",
       "      <th>8ba752f2c5</th>\n",
       "      <td>2019-04-02 00:00:00</td>\n",
       "      <td>11</td>\n",
       "      <td>2019-02-10 00:00:00</td>\n",
       "      <td>2019-03-13 09:36:59</td>\n",
       "      <td>0.0</td>\n",
       "      <td>0.0</td>\n",
       "      <td>0.0</td>\n",
       "      <td>0.0</td>\n",
       "      <td>0.0</td>\n",
       "      <td>0.0</td>\n",
       "      <td>0.0</td>\n",
       "      <td>0.0</td>\n",
       "      <td>0.0</td>\n",
       "      <td>0.0</td>\n",
       "      <td>0.0</td>\n",
       "      <td>0.0</td>\n",
       "      <td>0.0</td>\n",
       "      <td>0.0</td>\n",
       "      <td>0.0</td>\n",
       "      <td>0.0</td>\n",
       "      <td>0.0</td>\n",
       "      <td>0.0</td>\n",
       "      <td>0.0</td>\n",
       "      <td>0.0</td>\n",
       "      <td>0.0</td>\n",
       "      <td>0.0</td>\n",
       "      <td>0.0</td>\n",
       "      <td>0.0</td>\n",
       "      <td>0.0</td>\n",
       "      <td>0.0</td>\n",
       "      <td>0.0</td>\n",
       "      <td>0.0</td>\n",
       "      <td>0.0</td>\n",
       "      <td>0.0</td>\n",
       "      <td>0.0</td>\n",
       "      <td>0.0</td>\n",
       "      <td>0.0</td>\n",
       "      <td>0.0</td>\n",
       "      <td>0.0</td>\n",
       "      <td>0.0</td>\n",
       "      <td>0.0</td>\n",
       "      <td>0.0</td>\n",
       "      <td>0.0</td>\n",
       "      <td>0.0</td>\n",
       "      <td>0.0</td>\n",
       "      <td>0.0</td>\n",
       "      <td>0.0</td>\n",
       "      <td>0.0</td>\n",
       "      <td>0.0</td>\n",
       "      <td>0.0</td>\n",
       "      <td>0.0</td>\n",
       "      <td>0.0</td>\n",
       "      <td>0.0</td>\n",
       "      <td>0.0</td>\n",
       "      <td>0.0</td>\n",
       "      <td>0.0</td>\n",
       "      <td>0.0</td>\n",
       "      <td>0.0</td>\n",
       "      <td>0.0</td>\n",
       "      <td>0.0</td>\n",
       "      <td>0.0</td>\n",
       "      <td>0.0</td>\n",
       "      <td>0.0</td>\n",
       "      <td>0.0</td>\n",
       "      <td>0.0</td>\n",
       "      <td>0.0</td>\n",
       "      <td>0.0</td>\n",
       "      <td>0.0</td>\n",
       "      <td>0.0</td>\n",
       "      <td>0.0</td>\n",
       "      <td>0.0</td>\n",
       "      <td>0.0</td>\n",
       "      <td>0.0</td>\n",
       "      <td>0.0</td>\n",
       "      <td>0.0</td>\n",
       "      <td>0.0</td>\n",
       "      <td>0.0</td>\n",
       "      <td>0.0</td>\n",
       "      <td>0.0</td>\n",
       "      <td>0.0</td>\n",
       "      <td>0.0</td>\n",
       "      <td>0.0</td>\n",
       "      <td>0.0</td>\n",
       "      <td>0.0</td>\n",
       "      <td>0.0</td>\n",
       "      <td>0.0</td>\n",
       "      <td>0.0</td>\n",
       "      <td>4367.0</td>\n",
       "      <td>4367.0</td>\n",
       "      <td>2.0</td>\n",
       "      <td>2.0</td>\n",
       "      <td>2.0</td>\n",
       "      <td>2.0</td>\n",
       "      <td>1.0</td>\n",
       "      <td>2.0</td>\n",
       "      <td>2.0</td>\n",
       "      <td>0.0</td>\n",
       "      <td>0.0</td>\n",
       "      <td>0.0</td>\n",
       "      <td>0.0</td>\n",
       "      <td>0.0</td>\n",
       "      <td>0.0</td>\n",
       "      <td>0.0</td>\n",
       "      <td>0.0</td>\n",
       "      <td>0.0</td>\n",
       "      <td>0.0</td>\n",
       "      <td>0.0</td>\n",
       "      <td>0.0</td>\n",
       "      <td>0.0</td>\n",
       "      <td>2.0</td>\n",
       "      <td>0.0</td>\n",
       "      <td>0.0</td>\n",
       "      <td>59073.0</td>\n",
       "      <td>25595.0</td>\n",
       "      <td>10.0</td>\n",
       "      <td>4.0</td>\n",
       "      <td>10.0</td>\n",
       "      <td>4.0</td>\n",
       "      <td>1.0</td>\n",
       "      <td>20.0</td>\n",
       "      <td>6.0</td>\n",
       "      <td>17.0</td>\n",
       "      <td>20.0</td>\n",
       "      <td>0.0</td>\n",
       "      <td>0.0</td>\n",
       "      <td>0.0</td>\n",
       "      <td>0.0</td>\n",
       "      <td>1.0</td>\n",
       "      <td>0.0</td>\n",
       "      <td>0.0</td>\n",
       "      <td>0.0</td>\n",
       "      <td>0.0</td>\n",
       "      <td>0.0</td>\n",
       "      <td>0.0</td>\n",
       "      <td>20.0</td>\n",
       "      <td>0.0</td>\n",
       "      <td>0.0</td>\n",
       "      <td>0.0</td>\n",
       "      <td>0.0</td>\n",
       "      <td>0.0</td>\n",
       "      <td>0.000000</td>\n",
       "      <td>0.000000</td>\n",
       "      <td>0.000000</td>\n",
       "      <td>0.000000</td>\n",
       "      <td>0.0</td>\n",
       "    </tr>\n",
       "    <tr>\n",
       "      <th>752a6d96f7</th>\n",
       "      <td>2019-04-02 00:00:00</td>\n",
       "      <td>10</td>\n",
       "      <td>2018-10-28 00:00:00</td>\n",
       "      <td>2019-04-01 20:51:29</td>\n",
       "      <td>0.0</td>\n",
       "      <td>0.0</td>\n",
       "      <td>0.0</td>\n",
       "      <td>0.0</td>\n",
       "      <td>0.0</td>\n",
       "      <td>0.0</td>\n",
       "      <td>0.0</td>\n",
       "      <td>0.0</td>\n",
       "      <td>60.0</td>\n",
       "      <td>60.0</td>\n",
       "      <td>1.0</td>\n",
       "      <td>1.0</td>\n",
       "      <td>1.0</td>\n",
       "      <td>1.0</td>\n",
       "      <td>1.0</td>\n",
       "      <td>1.0</td>\n",
       "      <td>0.0</td>\n",
       "      <td>0.0</td>\n",
       "      <td>0.0</td>\n",
       "      <td>0.0</td>\n",
       "      <td>1.0</td>\n",
       "      <td>0.0</td>\n",
       "      <td>0.0</td>\n",
       "      <td>0.0</td>\n",
       "      <td>0.0</td>\n",
       "      <td>0.0</td>\n",
       "      <td>0.0</td>\n",
       "      <td>0.0</td>\n",
       "      <td>0.0</td>\n",
       "      <td>0.0</td>\n",
       "      <td>0.0</td>\n",
       "      <td>0.0</td>\n",
       "      <td>1.0</td>\n",
       "      <td>60.0</td>\n",
       "      <td>60.0</td>\n",
       "      <td>1.0</td>\n",
       "      <td>1.0</td>\n",
       "      <td>1.0</td>\n",
       "      <td>1.0</td>\n",
       "      <td>1.0</td>\n",
       "      <td>1.0</td>\n",
       "      <td>0.0</td>\n",
       "      <td>0.0</td>\n",
       "      <td>0.0</td>\n",
       "      <td>0.0</td>\n",
       "      <td>1.0</td>\n",
       "      <td>0.0</td>\n",
       "      <td>0.0</td>\n",
       "      <td>0.0</td>\n",
       "      <td>0.0</td>\n",
       "      <td>0.0</td>\n",
       "      <td>0.0</td>\n",
       "      <td>0.0</td>\n",
       "      <td>0.0</td>\n",
       "      <td>0.0</td>\n",
       "      <td>0.0</td>\n",
       "      <td>0.0</td>\n",
       "      <td>1.0</td>\n",
       "      <td>10332.0</td>\n",
       "      <td>10152.0</td>\n",
       "      <td>12.0</td>\n",
       "      <td>9.0</td>\n",
       "      <td>5.0</td>\n",
       "      <td>2.0</td>\n",
       "      <td>1.0</td>\n",
       "      <td>11.0</td>\n",
       "      <td>0.0</td>\n",
       "      <td>0.0</td>\n",
       "      <td>1.0</td>\n",
       "      <td>9.0</td>\n",
       "      <td>2.0</td>\n",
       "      <td>2.0</td>\n",
       "      <td>0.0</td>\n",
       "      <td>0.0</td>\n",
       "      <td>0.0</td>\n",
       "      <td>0.0</td>\n",
       "      <td>0.0</td>\n",
       "      <td>0.0</td>\n",
       "      <td>0.0</td>\n",
       "      <td>11.0</td>\n",
       "      <td>0.0</td>\n",
       "      <td>0.0</td>\n",
       "      <td>1.0</td>\n",
       "      <td>10392.0</td>\n",
       "      <td>10152.0</td>\n",
       "      <td>13.0</td>\n",
       "      <td>9.0</td>\n",
       "      <td>6.0</td>\n",
       "      <td>2.0</td>\n",
       "      <td>1.0</td>\n",
       "      <td>11.0</td>\n",
       "      <td>0.0</td>\n",
       "      <td>0.0</td>\n",
       "      <td>2.0</td>\n",
       "      <td>9.0</td>\n",
       "      <td>2.0</td>\n",
       "      <td>2.0</td>\n",
       "      <td>0.0</td>\n",
       "      <td>0.0</td>\n",
       "      <td>0.0</td>\n",
       "      <td>0.0</td>\n",
       "      <td>0.0</td>\n",
       "      <td>0.0</td>\n",
       "      <td>0.0</td>\n",
       "      <td>11.0</td>\n",
       "      <td>0.0</td>\n",
       "      <td>0.0</td>\n",
       "      <td>1.0</td>\n",
       "      <td>19801.0</td>\n",
       "      <td>10152.0</td>\n",
       "      <td>22.0</td>\n",
       "      <td>9.0</td>\n",
       "      <td>10.0</td>\n",
       "      <td>3.0</td>\n",
       "      <td>1.0</td>\n",
       "      <td>11.0</td>\n",
       "      <td>1.0</td>\n",
       "      <td>2.0</td>\n",
       "      <td>10.0</td>\n",
       "      <td>9.0</td>\n",
       "      <td>2.0</td>\n",
       "      <td>2.0</td>\n",
       "      <td>0.0</td>\n",
       "      <td>0.0</td>\n",
       "      <td>0.0</td>\n",
       "      <td>0.0</td>\n",
       "      <td>0.0</td>\n",
       "      <td>0.0</td>\n",
       "      <td>0.0</td>\n",
       "      <td>11.0</td>\n",
       "      <td>0.0</td>\n",
       "      <td>0.0</td>\n",
       "      <td>4.0</td>\n",
       "      <td>0.0</td>\n",
       "      <td>0.0</td>\n",
       "      <td>0.0</td>\n",
       "      <td>0.005807</td>\n",
       "      <td>0.005774</td>\n",
       "      <td>0.003030</td>\n",
       "      <td>0.521792</td>\n",
       "      <td>1.0</td>\n",
       "    </tr>\n",
       "    <tr>\n",
       "      <th>827f6afef3</th>\n",
       "      <td>2019-04-02 00:00:00</td>\n",
       "      <td>4</td>\n",
       "      <td>2018-12-14 00:00:00</td>\n",
       "      <td>2019-04-01 18:00:49</td>\n",
       "      <td>0.0</td>\n",
       "      <td>0.0</td>\n",
       "      <td>0.0</td>\n",
       "      <td>0.0</td>\n",
       "      <td>0.0</td>\n",
       "      <td>0.0</td>\n",
       "      <td>0.0</td>\n",
       "      <td>0.0</td>\n",
       "      <td>60.0</td>\n",
       "      <td>60.0</td>\n",
       "      <td>1.0</td>\n",
       "      <td>1.0</td>\n",
       "      <td>1.0</td>\n",
       "      <td>1.0</td>\n",
       "      <td>1.0</td>\n",
       "      <td>1.0</td>\n",
       "      <td>0.0</td>\n",
       "      <td>0.0</td>\n",
       "      <td>0.0</td>\n",
       "      <td>1.0</td>\n",
       "      <td>0.0</td>\n",
       "      <td>0.0</td>\n",
       "      <td>0.0</td>\n",
       "      <td>0.0</td>\n",
       "      <td>0.0</td>\n",
       "      <td>0.0</td>\n",
       "      <td>0.0</td>\n",
       "      <td>0.0</td>\n",
       "      <td>0.0</td>\n",
       "      <td>0.0</td>\n",
       "      <td>0.0</td>\n",
       "      <td>0.0</td>\n",
       "      <td>1.0</td>\n",
       "      <td>893.0</td>\n",
       "      <td>833.0</td>\n",
       "      <td>3.0</td>\n",
       "      <td>2.0</td>\n",
       "      <td>2.0</td>\n",
       "      <td>1.0</td>\n",
       "      <td>1.0</td>\n",
       "      <td>2.0</td>\n",
       "      <td>0.0</td>\n",
       "      <td>0.0</td>\n",
       "      <td>0.0</td>\n",
       "      <td>1.0</td>\n",
       "      <td>0.0</td>\n",
       "      <td>0.0</td>\n",
       "      <td>0.0</td>\n",
       "      <td>0.0</td>\n",
       "      <td>0.0</td>\n",
       "      <td>0.0</td>\n",
       "      <td>2.0</td>\n",
       "      <td>0.0</td>\n",
       "      <td>0.0</td>\n",
       "      <td>0.0</td>\n",
       "      <td>0.0</td>\n",
       "      <td>0.0</td>\n",
       "      <td>2.0</td>\n",
       "      <td>953.0</td>\n",
       "      <td>833.0</td>\n",
       "      <td>4.0</td>\n",
       "      <td>2.0</td>\n",
       "      <td>3.0</td>\n",
       "      <td>1.0</td>\n",
       "      <td>1.0</td>\n",
       "      <td>2.0</td>\n",
       "      <td>0.0</td>\n",
       "      <td>0.0</td>\n",
       "      <td>0.0</td>\n",
       "      <td>1.0</td>\n",
       "      <td>0.0</td>\n",
       "      <td>0.0</td>\n",
       "      <td>0.0</td>\n",
       "      <td>0.0</td>\n",
       "      <td>1.0</td>\n",
       "      <td>0.0</td>\n",
       "      <td>2.0</td>\n",
       "      <td>0.0</td>\n",
       "      <td>0.0</td>\n",
       "      <td>0.0</td>\n",
       "      <td>0.0</td>\n",
       "      <td>0.0</td>\n",
       "      <td>2.0</td>\n",
       "      <td>1073.0</td>\n",
       "      <td>833.0</td>\n",
       "      <td>6.0</td>\n",
       "      <td>2.0</td>\n",
       "      <td>5.0</td>\n",
       "      <td>2.0</td>\n",
       "      <td>1.0</td>\n",
       "      <td>2.0</td>\n",
       "      <td>1.0</td>\n",
       "      <td>0.0</td>\n",
       "      <td>0.0</td>\n",
       "      <td>1.0</td>\n",
       "      <td>0.0</td>\n",
       "      <td>0.0</td>\n",
       "      <td>0.0</td>\n",
       "      <td>0.0</td>\n",
       "      <td>2.0</td>\n",
       "      <td>0.0</td>\n",
       "      <td>2.0</td>\n",
       "      <td>0.0</td>\n",
       "      <td>0.0</td>\n",
       "      <td>0.0</td>\n",
       "      <td>0.0</td>\n",
       "      <td>0.0</td>\n",
       "      <td>2.0</td>\n",
       "      <td>1493.0</td>\n",
       "      <td>833.0</td>\n",
       "      <td>12.0</td>\n",
       "      <td>5.0</td>\n",
       "      <td>11.0</td>\n",
       "      <td>5.0</td>\n",
       "      <td>1.0</td>\n",
       "      <td>6.0</td>\n",
       "      <td>3.0</td>\n",
       "      <td>1.0</td>\n",
       "      <td>0.0</td>\n",
       "      <td>1.0</td>\n",
       "      <td>0.0</td>\n",
       "      <td>0.0</td>\n",
       "      <td>1.0</td>\n",
       "      <td>0.0</td>\n",
       "      <td>2.0</td>\n",
       "      <td>2.0</td>\n",
       "      <td>3.0</td>\n",
       "      <td>0.0</td>\n",
       "      <td>0.0</td>\n",
       "      <td>0.0</td>\n",
       "      <td>0.0</td>\n",
       "      <td>0.0</td>\n",
       "      <td>6.0</td>\n",
       "      <td>0.0</td>\n",
       "      <td>0.0</td>\n",
       "      <td>0.0</td>\n",
       "      <td>0.937031</td>\n",
       "      <td>0.832238</td>\n",
       "      <td>0.598121</td>\n",
       "      <td>0.638308</td>\n",
       "      <td>0.0</td>\n",
       "    </tr>\n",
       "    <tr>\n",
       "      <th>346e0f766c</th>\n",
       "      <td>2019-04-02 00:00:00</td>\n",
       "      <td>9</td>\n",
       "      <td>2019-03-08 00:00:00</td>\n",
       "      <td>2019-03-31 23:05:17</td>\n",
       "      <td>0.0</td>\n",
       "      <td>0.0</td>\n",
       "      <td>0.0</td>\n",
       "      <td>0.0</td>\n",
       "      <td>0.0</td>\n",
       "      <td>0.0</td>\n",
       "      <td>0.0</td>\n",
       "      <td>0.0</td>\n",
       "      <td>120.0</td>\n",
       "      <td>120.0</td>\n",
       "      <td>1.0</td>\n",
       "      <td>1.0</td>\n",
       "      <td>1.0</td>\n",
       "      <td>1.0</td>\n",
       "      <td>1.0</td>\n",
       "      <td>2.0</td>\n",
       "      <td>0.0</td>\n",
       "      <td>0.0</td>\n",
       "      <td>0.0</td>\n",
       "      <td>2.0</td>\n",
       "      <td>0.0</td>\n",
       "      <td>0.0</td>\n",
       "      <td>0.0</td>\n",
       "      <td>0.0</td>\n",
       "      <td>0.0</td>\n",
       "      <td>0.0</td>\n",
       "      <td>0.0</td>\n",
       "      <td>0.0</td>\n",
       "      <td>0.0</td>\n",
       "      <td>2.0</td>\n",
       "      <td>0.0</td>\n",
       "      <td>0.0</td>\n",
       "      <td>0.0</td>\n",
       "      <td>4656.0</td>\n",
       "      <td>2028.0</td>\n",
       "      <td>10.0</td>\n",
       "      <td>3.0</td>\n",
       "      <td>6.0</td>\n",
       "      <td>2.0</td>\n",
       "      <td>1.0</td>\n",
       "      <td>5.0</td>\n",
       "      <td>0.0</td>\n",
       "      <td>2.0</td>\n",
       "      <td>0.0</td>\n",
       "      <td>5.0</td>\n",
       "      <td>0.0</td>\n",
       "      <td>0.0</td>\n",
       "      <td>0.0</td>\n",
       "      <td>9.0</td>\n",
       "      <td>0.0</td>\n",
       "      <td>0.0</td>\n",
       "      <td>0.0</td>\n",
       "      <td>0.0</td>\n",
       "      <td>0.0</td>\n",
       "      <td>5.0</td>\n",
       "      <td>0.0</td>\n",
       "      <td>0.0</td>\n",
       "      <td>0.0</td>\n",
       "      <td>8615.0</td>\n",
       "      <td>2623.0</td>\n",
       "      <td>20.0</td>\n",
       "      <td>6.0</td>\n",
       "      <td>11.0</td>\n",
       "      <td>3.0</td>\n",
       "      <td>1.0</td>\n",
       "      <td>10.0</td>\n",
       "      <td>0.0</td>\n",
       "      <td>4.0</td>\n",
       "      <td>0.0</td>\n",
       "      <td>16.0</td>\n",
       "      <td>1.0</td>\n",
       "      <td>0.0</td>\n",
       "      <td>0.0</td>\n",
       "      <td>9.0</td>\n",
       "      <td>0.0</td>\n",
       "      <td>0.0</td>\n",
       "      <td>0.0</td>\n",
       "      <td>0.0</td>\n",
       "      <td>0.0</td>\n",
       "      <td>10.0</td>\n",
       "      <td>0.0</td>\n",
       "      <td>0.0</td>\n",
       "      <td>0.0</td>\n",
       "      <td>8675.0</td>\n",
       "      <td>2623.0</td>\n",
       "      <td>21.0</td>\n",
       "      <td>6.0</td>\n",
       "      <td>12.0</td>\n",
       "      <td>3.0</td>\n",
       "      <td>1.0</td>\n",
       "      <td>10.0</td>\n",
       "      <td>0.0</td>\n",
       "      <td>4.0</td>\n",
       "      <td>0.0</td>\n",
       "      <td>16.0</td>\n",
       "      <td>1.0</td>\n",
       "      <td>0.0</td>\n",
       "      <td>0.0</td>\n",
       "      <td>10.0</td>\n",
       "      <td>0.0</td>\n",
       "      <td>0.0</td>\n",
       "      <td>0.0</td>\n",
       "      <td>0.0</td>\n",
       "      <td>0.0</td>\n",
       "      <td>10.0</td>\n",
       "      <td>0.0</td>\n",
       "      <td>0.0</td>\n",
       "      <td>1.0</td>\n",
       "      <td>14724.0</td>\n",
       "      <td>4588.0</td>\n",
       "      <td>34.0</td>\n",
       "      <td>6.0</td>\n",
       "      <td>17.0</td>\n",
       "      <td>3.0</td>\n",
       "      <td>1.0</td>\n",
       "      <td>12.0</td>\n",
       "      <td>0.0</td>\n",
       "      <td>4.0</td>\n",
       "      <td>19.0</td>\n",
       "      <td>18.0</td>\n",
       "      <td>1.0</td>\n",
       "      <td>0.0</td>\n",
       "      <td>0.0</td>\n",
       "      <td>10.0</td>\n",
       "      <td>1.0</td>\n",
       "      <td>0.0</td>\n",
       "      <td>0.0</td>\n",
       "      <td>0.0</td>\n",
       "      <td>0.0</td>\n",
       "      <td>12.0</td>\n",
       "      <td>0.0</td>\n",
       "      <td>0.0</td>\n",
       "      <td>6.0</td>\n",
       "      <td>0.0</td>\n",
       "      <td>0.0</td>\n",
       "      <td>0.0</td>\n",
       "      <td>0.540452</td>\n",
       "      <td>0.536714</td>\n",
       "      <td>0.316218</td>\n",
       "      <td>0.585099</td>\n",
       "      <td>1.0</td>\n",
       "    </tr>\n",
       "    <tr>\n",
       "      <th>0addbcc79a</th>\n",
       "      <td>2019-04-02 00:00:00</td>\n",
       "      <td>10</td>\n",
       "      <td>2019-01-09 00:00:00</td>\n",
       "      <td>2019-03-25 17:41:09</td>\n",
       "      <td>0.0</td>\n",
       "      <td>0.0</td>\n",
       "      <td>0.0</td>\n",
       "      <td>0.0</td>\n",
       "      <td>0.0</td>\n",
       "      <td>0.0</td>\n",
       "      <td>0.0</td>\n",
       "      <td>0.0</td>\n",
       "      <td>0.0</td>\n",
       "      <td>0.0</td>\n",
       "      <td>0.0</td>\n",
       "      <td>0.0</td>\n",
       "      <td>0.0</td>\n",
       "      <td>0.0</td>\n",
       "      <td>0.0</td>\n",
       "      <td>0.0</td>\n",
       "      <td>0.0</td>\n",
       "      <td>0.0</td>\n",
       "      <td>0.0</td>\n",
       "      <td>0.0</td>\n",
       "      <td>0.0</td>\n",
       "      <td>0.0</td>\n",
       "      <td>0.0</td>\n",
       "      <td>0.0</td>\n",
       "      <td>0.0</td>\n",
       "      <td>0.0</td>\n",
       "      <td>0.0</td>\n",
       "      <td>0.0</td>\n",
       "      <td>0.0</td>\n",
       "      <td>0.0</td>\n",
       "      <td>0.0</td>\n",
       "      <td>0.0</td>\n",
       "      <td>0.0</td>\n",
       "      <td>0.0</td>\n",
       "      <td>0.0</td>\n",
       "      <td>0.0</td>\n",
       "      <td>0.0</td>\n",
       "      <td>0.0</td>\n",
       "      <td>0.0</td>\n",
       "      <td>0.0</td>\n",
       "      <td>0.0</td>\n",
       "      <td>0.0</td>\n",
       "      <td>0.0</td>\n",
       "      <td>0.0</td>\n",
       "      <td>0.0</td>\n",
       "      <td>0.0</td>\n",
       "      <td>0.0</td>\n",
       "      <td>0.0</td>\n",
       "      <td>0.0</td>\n",
       "      <td>0.0</td>\n",
       "      <td>0.0</td>\n",
       "      <td>0.0</td>\n",
       "      <td>0.0</td>\n",
       "      <td>0.0</td>\n",
       "      <td>0.0</td>\n",
       "      <td>0.0</td>\n",
       "      <td>0.0</td>\n",
       "      <td>0.0</td>\n",
       "      <td>24770.0</td>\n",
       "      <td>12345.0</td>\n",
       "      <td>7.0</td>\n",
       "      <td>5.0</td>\n",
       "      <td>4.0</td>\n",
       "      <td>2.0</td>\n",
       "      <td>1.0</td>\n",
       "      <td>14.0</td>\n",
       "      <td>1.0</td>\n",
       "      <td>16.0</td>\n",
       "      <td>0.0</td>\n",
       "      <td>0.0</td>\n",
       "      <td>0.0</td>\n",
       "      <td>4.0</td>\n",
       "      <td>0.0</td>\n",
       "      <td>0.0</td>\n",
       "      <td>0.0</td>\n",
       "      <td>0.0</td>\n",
       "      <td>0.0</td>\n",
       "      <td>14.0</td>\n",
       "      <td>0.0</td>\n",
       "      <td>0.0</td>\n",
       "      <td>0.0</td>\n",
       "      <td>0.0</td>\n",
       "      <td>0.0</td>\n",
       "      <td>33241.0</td>\n",
       "      <td>12345.0</td>\n",
       "      <td>8.0</td>\n",
       "      <td>5.0</td>\n",
       "      <td>5.0</td>\n",
       "      <td>2.0</td>\n",
       "      <td>1.0</td>\n",
       "      <td>14.0</td>\n",
       "      <td>1.0</td>\n",
       "      <td>22.0</td>\n",
       "      <td>0.0</td>\n",
       "      <td>0.0</td>\n",
       "      <td>0.0</td>\n",
       "      <td>4.0</td>\n",
       "      <td>0.0</td>\n",
       "      <td>0.0</td>\n",
       "      <td>0.0</td>\n",
       "      <td>0.0</td>\n",
       "      <td>0.0</td>\n",
       "      <td>14.0</td>\n",
       "      <td>0.0</td>\n",
       "      <td>6.0</td>\n",
       "      <td>0.0</td>\n",
       "      <td>0.0</td>\n",
       "      <td>0.0</td>\n",
       "      <td>59165.0</td>\n",
       "      <td>13077.0</td>\n",
       "      <td>20.0</td>\n",
       "      <td>7.0</td>\n",
       "      <td>8.0</td>\n",
       "      <td>2.0</td>\n",
       "      <td>1.0</td>\n",
       "      <td>21.0</td>\n",
       "      <td>1.0</td>\n",
       "      <td>37.0</td>\n",
       "      <td>0.0</td>\n",
       "      <td>22.0</td>\n",
       "      <td>0.0</td>\n",
       "      <td>4.0</td>\n",
       "      <td>0.0</td>\n",
       "      <td>0.0</td>\n",
       "      <td>0.0</td>\n",
       "      <td>0.0</td>\n",
       "      <td>0.0</td>\n",
       "      <td>14.0</td>\n",
       "      <td>0.0</td>\n",
       "      <td>19.0</td>\n",
       "      <td>0.0</td>\n",
       "      <td>0.0</td>\n",
       "      <td>6.0</td>\n",
       "      <td>0.0</td>\n",
       "      <td>0.0</td>\n",
       "      <td>0.0</td>\n",
       "      <td>0.000000</td>\n",
       "      <td>0.000000</td>\n",
       "      <td>0.000000</td>\n",
       "      <td>0.418660</td>\n",
       "      <td>0.0</td>\n",
       "    </tr>\n",
       "  </tbody>\n",
       "</table>\n",
       "</div>"
      ],
      "text/plain": [
       "                       cut_date  days_to_end           first_date  \\\n",
       "email                                                               \n",
       "8ba752f2c5  2019-04-02 00:00:00           11  2019-02-10 00:00:00   \n",
       "752a6d96f7  2019-04-02 00:00:00           10  2018-10-28 00:00:00   \n",
       "827f6afef3  2019-04-02 00:00:00            4  2018-12-14 00:00:00   \n",
       "346e0f766c  2019-04-02 00:00:00            9  2019-03-08 00:00:00   \n",
       "0addbcc79a  2019-04-02 00:00:00           10  2019-01-09 00:00:00   \n",
       "\n",
       "                      last_date  num_country_max_1days  num_city_max_1days  \\\n",
       "email                                                                        \n",
       "8ba752f2c5  2019-03-13 09:36:59                    0.0                 0.0   \n",
       "752a6d96f7  2019-04-01 20:51:29                    0.0                 0.0   \n",
       "827f6afef3  2019-04-01 18:00:49                    0.0                 0.0   \n",
       "346e0f766c  2019-03-31 23:05:17                    0.0                 0.0   \n",
       "0addbcc79a  2019-03-25 17:41:09                    0.0                 0.0   \n",
       "\n",
       "            android_max_1days  smarttv_max_1days  iphone_max_1days  \\\n",
       "email                                                                \n",
       "8ba752f2c5                0.0                0.0               0.0   \n",
       "752a6d96f7                0.0                0.0               0.0   \n",
       "827f6afef3                0.0                0.0               0.0   \n",
       "346e0f766c                0.0                0.0               0.0   \n",
       "0addbcc79a                0.0                0.0               0.0   \n",
       "\n",
       "            ipad_max_1days  apple_max_1days  pc_max_1days  \\\n",
       "email                                                       \n",
       "8ba752f2c5             0.0              0.0           0.0   \n",
       "752a6d96f7             0.0              0.0           0.0   \n",
       "827f6afef3             0.0              0.0           0.0   \n",
       "346e0f766c             0.0              0.0           0.0   \n",
       "0addbcc79a             0.0              0.0           0.0   \n",
       "\n",
       "            time_spent_sum_3days  time_spent_max_3days  \\\n",
       "email                                                    \n",
       "8ba752f2c5                   0.0                   0.0   \n",
       "752a6d96f7                  60.0                  60.0   \n",
       "827f6afef3                  60.0                  60.0   \n",
       "346e0f766c                 120.0                 120.0   \n",
       "0addbcc79a                   0.0                   0.0   \n",
       "\n",
       "            num_title_ep_sum_3days  num_title_ep_max_3days  \\\n",
       "email                                                        \n",
       "8ba752f2c5                     0.0                     0.0   \n",
       "752a6d96f7                     1.0                     1.0   \n",
       "827f6afef3                     1.0                     1.0   \n",
       "346e0f766c                     1.0                     1.0   \n",
       "0addbcc79a                     0.0                     0.0   \n",
       "\n",
       "            num_title_ru_sum_3days  num_title_ru_max_3days  \\\n",
       "email                                                        \n",
       "8ba752f2c5                     0.0                     0.0   \n",
       "752a6d96f7                     1.0                     1.0   \n",
       "827f6afef3                     1.0                     1.0   \n",
       "346e0f766c                     1.0                     1.0   \n",
       "0addbcc79a                     0.0                     0.0   \n",
       "\n",
       "            num_country_max_3days  num_city_max_3days  \\\n",
       "email                                                   \n",
       "8ba752f2c5                    0.0                 0.0   \n",
       "752a6d96f7                    1.0                 1.0   \n",
       "827f6afef3                    1.0                 1.0   \n",
       "346e0f766c                    1.0                 2.0   \n",
       "0addbcc79a                    0.0                 0.0   \n",
       "\n",
       "            other_content_sum_3days  top_1_sum_3days  top_2_sum_3days  \\\n",
       "email                                                                   \n",
       "8ba752f2c5                      0.0              0.0              0.0   \n",
       "752a6d96f7                      0.0              0.0              0.0   \n",
       "827f6afef3                      0.0              0.0              0.0   \n",
       "346e0f766c                      0.0              0.0              0.0   \n",
       "0addbcc79a                      0.0              0.0              0.0   \n",
       "\n",
       "            top_3_sum_3days  top_4_sum_3days  top_5_sum_3days  \\\n",
       "email                                                           \n",
       "8ba752f2c5              0.0              0.0              0.0   \n",
       "752a6d96f7              0.0              1.0              0.0   \n",
       "827f6afef3              1.0              0.0              0.0   \n",
       "346e0f766c              2.0              0.0              0.0   \n",
       "0addbcc79a              0.0              0.0              0.0   \n",
       "\n",
       "            top_6_sum_3days  top_7_sum_3days  top_8_sum_3days  \\\n",
       "email                                                           \n",
       "8ba752f2c5              0.0              0.0              0.0   \n",
       "752a6d96f7              0.0              0.0              0.0   \n",
       "827f6afef3              0.0              0.0              0.0   \n",
       "346e0f766c              0.0              0.0              0.0   \n",
       "0addbcc79a              0.0              0.0              0.0   \n",
       "\n",
       "            top_9_sum_3days  top_10_sum_3days  android_max_3days  \\\n",
       "email                                                              \n",
       "8ba752f2c5              0.0               0.0                0.0   \n",
       "752a6d96f7              0.0               0.0                0.0   \n",
       "827f6afef3              0.0               0.0                0.0   \n",
       "346e0f766c              0.0               0.0                0.0   \n",
       "0addbcc79a              0.0               0.0                0.0   \n",
       "\n",
       "            smarttv_max_3days  iphone_max_3days  ipad_max_3days  \\\n",
       "email                                                             \n",
       "8ba752f2c5                0.0               0.0             0.0   \n",
       "752a6d96f7                0.0               0.0             0.0   \n",
       "827f6afef3                0.0               0.0             0.0   \n",
       "346e0f766c                0.0               2.0             0.0   \n",
       "0addbcc79a                0.0               0.0             0.0   \n",
       "\n",
       "            apple_max_3days  pc_max_3days  time_spent_sum_7days  \\\n",
       "email                                                             \n",
       "8ba752f2c5              0.0           0.0                   0.0   \n",
       "752a6d96f7              0.0           1.0                  60.0   \n",
       "827f6afef3              0.0           1.0                 893.0   \n",
       "346e0f766c              0.0           0.0                4656.0   \n",
       "0addbcc79a              0.0           0.0                   0.0   \n",
       "\n",
       "            time_spent_max_7days  num_title_ep_sum_7days  \\\n",
       "email                                                      \n",
       "8ba752f2c5                   0.0                     0.0   \n",
       "752a6d96f7                  60.0                     1.0   \n",
       "827f6afef3                 833.0                     3.0   \n",
       "346e0f766c                2028.0                    10.0   \n",
       "0addbcc79a                   0.0                     0.0   \n",
       "\n",
       "            num_title_ep_max_7days  num_title_ru_sum_7days  \\\n",
       "email                                                        \n",
       "8ba752f2c5                     0.0                     0.0   \n",
       "752a6d96f7                     1.0                     1.0   \n",
       "827f6afef3                     2.0                     2.0   \n",
       "346e0f766c                     3.0                     6.0   \n",
       "0addbcc79a                     0.0                     0.0   \n",
       "\n",
       "            num_title_ru_max_7days  num_country_max_7days  num_city_max_7days  \\\n",
       "email                                                                           \n",
       "8ba752f2c5                     0.0                    0.0                 0.0   \n",
       "752a6d96f7                     1.0                    1.0                 1.0   \n",
       "827f6afef3                     1.0                    1.0                 2.0   \n",
       "346e0f766c                     2.0                    1.0                 5.0   \n",
       "0addbcc79a                     0.0                    0.0                 0.0   \n",
       "\n",
       "            other_content_sum_7days  top_1_sum_7days  top_2_sum_7days  \\\n",
       "email                                                                   \n",
       "8ba752f2c5                      0.0              0.0              0.0   \n",
       "752a6d96f7                      0.0              0.0              0.0   \n",
       "827f6afef3                      0.0              0.0              0.0   \n",
       "346e0f766c                      0.0              2.0              0.0   \n",
       "0addbcc79a                      0.0              0.0              0.0   \n",
       "\n",
       "            top_3_sum_7days  top_4_sum_7days  top_5_sum_7days  \\\n",
       "email                                                           \n",
       "8ba752f2c5              0.0              0.0              0.0   \n",
       "752a6d96f7              0.0              1.0              0.0   \n",
       "827f6afef3              1.0              0.0              0.0   \n",
       "346e0f766c              5.0              0.0              0.0   \n",
       "0addbcc79a              0.0              0.0              0.0   \n",
       "\n",
       "            top_6_sum_7days  top_7_sum_7days  top_8_sum_7days  \\\n",
       "email                                                           \n",
       "8ba752f2c5              0.0              0.0              0.0   \n",
       "752a6d96f7              0.0              0.0              0.0   \n",
       "827f6afef3              0.0              0.0              0.0   \n",
       "346e0f766c              0.0              9.0              0.0   \n",
       "0addbcc79a              0.0              0.0              0.0   \n",
       "\n",
       "            top_9_sum_7days  top_10_sum_7days  android_max_7days  \\\n",
       "email                                                              \n",
       "8ba752f2c5              0.0               0.0                0.0   \n",
       "752a6d96f7              0.0               0.0                0.0   \n",
       "827f6afef3              0.0               2.0                0.0   \n",
       "346e0f766c              0.0               0.0                0.0   \n",
       "0addbcc79a              0.0               0.0                0.0   \n",
       "\n",
       "            smarttv_max_7days  iphone_max_7days  ipad_max_7days  \\\n",
       "email                                                             \n",
       "8ba752f2c5                0.0               0.0             0.0   \n",
       "752a6d96f7                0.0               0.0             0.0   \n",
       "827f6afef3                0.0               0.0             0.0   \n",
       "346e0f766c                0.0               5.0             0.0   \n",
       "0addbcc79a                0.0               0.0             0.0   \n",
       "\n",
       "            apple_max_7days  pc_max_7days  time_spent_sum_14days  \\\n",
       "email                                                              \n",
       "8ba752f2c5              0.0           0.0                    0.0   \n",
       "752a6d96f7              0.0           1.0                10332.0   \n",
       "827f6afef3              0.0           2.0                  953.0   \n",
       "346e0f766c              0.0           0.0                 8615.0   \n",
       "0addbcc79a              0.0           0.0                24770.0   \n",
       "\n",
       "            time_spent_max_14days  num_title_ep_sum_14days  \\\n",
       "email                                                        \n",
       "8ba752f2c5                    0.0                      0.0   \n",
       "752a6d96f7                10152.0                     12.0   \n",
       "827f6afef3                  833.0                      4.0   \n",
       "346e0f766c                 2623.0                     20.0   \n",
       "0addbcc79a                12345.0                      7.0   \n",
       "\n",
       "            num_title_ep_max_14days  num_title_ru_sum_14days  \\\n",
       "email                                                          \n",
       "8ba752f2c5                      0.0                      0.0   \n",
       "752a6d96f7                      9.0                      5.0   \n",
       "827f6afef3                      2.0                      3.0   \n",
       "346e0f766c                      6.0                     11.0   \n",
       "0addbcc79a                      5.0                      4.0   \n",
       "\n",
       "            num_title_ru_max_14days  num_country_max_14days  \\\n",
       "email                                                         \n",
       "8ba752f2c5                      0.0                     0.0   \n",
       "752a6d96f7                      2.0                     1.0   \n",
       "827f6afef3                      1.0                     1.0   \n",
       "346e0f766c                      3.0                     1.0   \n",
       "0addbcc79a                      2.0                     1.0   \n",
       "\n",
       "            num_city_max_14days  other_content_sum_14days  top_1_sum_14days  \\\n",
       "email                                                                         \n",
       "8ba752f2c5                  0.0                       0.0               0.0   \n",
       "752a6d96f7                 11.0                       0.0               0.0   \n",
       "827f6afef3                  2.0                       0.0               0.0   \n",
       "346e0f766c                 10.0                       0.0               4.0   \n",
       "0addbcc79a                 14.0                       1.0              16.0   \n",
       "\n",
       "            top_2_sum_14days  top_3_sum_14days  top_4_sum_14days  \\\n",
       "email                                                              \n",
       "8ba752f2c5               0.0               0.0               0.0   \n",
       "752a6d96f7               1.0               9.0               2.0   \n",
       "827f6afef3               0.0               1.0               0.0   \n",
       "346e0f766c               0.0              16.0               1.0   \n",
       "0addbcc79a               0.0               0.0               0.0   \n",
       "\n",
       "            top_5_sum_14days  top_6_sum_14days  top_7_sum_14days  \\\n",
       "email                                                              \n",
       "8ba752f2c5               0.0               0.0               0.0   \n",
       "752a6d96f7               2.0               0.0               0.0   \n",
       "827f6afef3               0.0               0.0               0.0   \n",
       "346e0f766c               0.0               0.0               9.0   \n",
       "0addbcc79a               4.0               0.0               0.0   \n",
       "\n",
       "            top_8_sum_14days  top_9_sum_14days  top_10_sum_14days  \\\n",
       "email                                                               \n",
       "8ba752f2c5               0.0               0.0                0.0   \n",
       "752a6d96f7               0.0               0.0                0.0   \n",
       "827f6afef3               1.0               0.0                2.0   \n",
       "346e0f766c               0.0               0.0                0.0   \n",
       "0addbcc79a               0.0               0.0                0.0   \n",
       "\n",
       "            android_max_14days  smarttv_max_14days  iphone_max_14days  \\\n",
       "email                                                                   \n",
       "8ba752f2c5                 0.0                 0.0                0.0   \n",
       "752a6d96f7                 0.0                 0.0               11.0   \n",
       "827f6afef3                 0.0                 0.0                0.0   \n",
       "346e0f766c                 0.0                 0.0               10.0   \n",
       "0addbcc79a                14.0                 0.0                0.0   \n",
       "\n",
       "            ipad_max_14days  apple_max_14days  pc_max_14days  \\\n",
       "email                                                          \n",
       "8ba752f2c5              0.0               0.0            0.0   \n",
       "752a6d96f7              0.0               0.0            1.0   \n",
       "827f6afef3              0.0               0.0            2.0   \n",
       "346e0f766c              0.0               0.0            0.0   \n",
       "0addbcc79a              0.0               0.0            0.0   \n",
       "\n",
       "            time_spent_sum_21days  time_spent_max_21days  \\\n",
       "email                                                      \n",
       "8ba752f2c5                 4367.0                 4367.0   \n",
       "752a6d96f7                10392.0                10152.0   \n",
       "827f6afef3                 1073.0                  833.0   \n",
       "346e0f766c                 8675.0                 2623.0   \n",
       "0addbcc79a                33241.0                12345.0   \n",
       "\n",
       "            num_title_ep_sum_21days  num_title_ep_max_21days  \\\n",
       "email                                                          \n",
       "8ba752f2c5                      2.0                      2.0   \n",
       "752a6d96f7                     13.0                      9.0   \n",
       "827f6afef3                      6.0                      2.0   \n",
       "346e0f766c                     21.0                      6.0   \n",
       "0addbcc79a                      8.0                      5.0   \n",
       "\n",
       "            num_title_ru_sum_21days  num_title_ru_max_21days  \\\n",
       "email                                                          \n",
       "8ba752f2c5                      2.0                      2.0   \n",
       "752a6d96f7                      6.0                      2.0   \n",
       "827f6afef3                      5.0                      2.0   \n",
       "346e0f766c                     12.0                      3.0   \n",
       "0addbcc79a                      5.0                      2.0   \n",
       "\n",
       "            num_country_max_21days  num_city_max_21days  \\\n",
       "email                                                     \n",
       "8ba752f2c5                     1.0                  2.0   \n",
       "752a6d96f7                     1.0                 11.0   \n",
       "827f6afef3                     1.0                  2.0   \n",
       "346e0f766c                     1.0                 10.0   \n",
       "0addbcc79a                     1.0                 14.0   \n",
       "\n",
       "            other_content_sum_21days  top_1_sum_21days  top_2_sum_21days  \\\n",
       "email                                                                      \n",
       "8ba752f2c5                       2.0               0.0               0.0   \n",
       "752a6d96f7                       0.0               0.0               2.0   \n",
       "827f6afef3                       1.0               0.0               0.0   \n",
       "346e0f766c                       0.0               4.0               0.0   \n",
       "0addbcc79a                       1.0              22.0               0.0   \n",
       "\n",
       "            top_3_sum_21days  top_4_sum_21days  top_5_sum_21days  \\\n",
       "email                                                              \n",
       "8ba752f2c5               0.0               0.0               0.0   \n",
       "752a6d96f7               9.0               2.0               2.0   \n",
       "827f6afef3               1.0               0.0               0.0   \n",
       "346e0f766c              16.0               1.0               0.0   \n",
       "0addbcc79a               0.0               0.0               4.0   \n",
       "\n",
       "            top_6_sum_21days  top_7_sum_21days  top_8_sum_21days  \\\n",
       "email                                                              \n",
       "8ba752f2c5               0.0               0.0               0.0   \n",
       "752a6d96f7               0.0               0.0               0.0   \n",
       "827f6afef3               0.0               0.0               2.0   \n",
       "346e0f766c               0.0              10.0               0.0   \n",
       "0addbcc79a               0.0               0.0               0.0   \n",
       "\n",
       "            top_9_sum_21days  top_10_sum_21days  android_max_21days  \\\n",
       "email                                                                 \n",
       "8ba752f2c5               0.0                0.0                 0.0   \n",
       "752a6d96f7               0.0                0.0                 0.0   \n",
       "827f6afef3               0.0                2.0                 0.0   \n",
       "346e0f766c               0.0                0.0                 0.0   \n",
       "0addbcc79a               0.0                0.0                14.0   \n",
       "\n",
       "            smarttv_max_21days  iphone_max_21days  ipad_max_21days  \\\n",
       "email                                                                \n",
       "8ba752f2c5                 0.0                0.0              2.0   \n",
       "752a6d96f7                 0.0               11.0              0.0   \n",
       "827f6afef3                 0.0                0.0              0.0   \n",
       "346e0f766c                 0.0               10.0              0.0   \n",
       "0addbcc79a                 0.0                6.0              0.0   \n",
       "\n",
       "            apple_max_21days  pc_max_21days  time_spent_sum_30days  \\\n",
       "email                                                                \n",
       "8ba752f2c5               0.0            0.0                59073.0   \n",
       "752a6d96f7               0.0            1.0                19801.0   \n",
       "827f6afef3               0.0            2.0                 1493.0   \n",
       "346e0f766c               0.0            1.0                14724.0   \n",
       "0addbcc79a               0.0            0.0                59165.0   \n",
       "\n",
       "            time_spent_max_30days  num_title_ep_sum_30days  \\\n",
       "email                                                        \n",
       "8ba752f2c5                25595.0                     10.0   \n",
       "752a6d96f7                10152.0                     22.0   \n",
       "827f6afef3                  833.0                     12.0   \n",
       "346e0f766c                 4588.0                     34.0   \n",
       "0addbcc79a                13077.0                     20.0   \n",
       "\n",
       "            num_title_ep_max_30days  num_title_ru_sum_30days  \\\n",
       "email                                                          \n",
       "8ba752f2c5                      4.0                     10.0   \n",
       "752a6d96f7                      9.0                     10.0   \n",
       "827f6afef3                      5.0                     11.0   \n",
       "346e0f766c                      6.0                     17.0   \n",
       "0addbcc79a                      7.0                      8.0   \n",
       "\n",
       "            num_title_ru_max_30days  num_country_max_30days  \\\n",
       "email                                                         \n",
       "8ba752f2c5                      4.0                     1.0   \n",
       "752a6d96f7                      3.0                     1.0   \n",
       "827f6afef3                      5.0                     1.0   \n",
       "346e0f766c                      3.0                     1.0   \n",
       "0addbcc79a                      2.0                     1.0   \n",
       "\n",
       "            num_city_max_30days  other_content_sum_30days  top_1_sum_30days  \\\n",
       "email                                                                         \n",
       "8ba752f2c5                 20.0                       6.0              17.0   \n",
       "752a6d96f7                 11.0                       1.0               2.0   \n",
       "827f6afef3                  6.0                       3.0               1.0   \n",
       "346e0f766c                 12.0                       0.0               4.0   \n",
       "0addbcc79a                 21.0                       1.0              37.0   \n",
       "\n",
       "            top_2_sum_30days  top_3_sum_30days  top_4_sum_30days  \\\n",
       "email                                                              \n",
       "8ba752f2c5              20.0               0.0               0.0   \n",
       "752a6d96f7              10.0               9.0               2.0   \n",
       "827f6afef3               0.0               1.0               0.0   \n",
       "346e0f766c              19.0              18.0               1.0   \n",
       "0addbcc79a               0.0              22.0               0.0   \n",
       "\n",
       "            top_5_sum_30days  top_6_sum_30days  top_7_sum_30days  \\\n",
       "email                                                              \n",
       "8ba752f2c5               0.0               0.0               1.0   \n",
       "752a6d96f7               2.0               0.0               0.0   \n",
       "827f6afef3               0.0               1.0               0.0   \n",
       "346e0f766c               0.0               0.0              10.0   \n",
       "0addbcc79a               4.0               0.0               0.0   \n",
       "\n",
       "            top_8_sum_30days  top_9_sum_30days  top_10_sum_30days  \\\n",
       "email                                                               \n",
       "8ba752f2c5               0.0               0.0                0.0   \n",
       "752a6d96f7               0.0               0.0                0.0   \n",
       "827f6afef3               2.0               2.0                3.0   \n",
       "346e0f766c               1.0               0.0                0.0   \n",
       "0addbcc79a               0.0               0.0                0.0   \n",
       "\n",
       "            android_max_30days  smarttv_max_30days  iphone_max_30days  \\\n",
       "email                                                                   \n",
       "8ba752f2c5                 0.0                 0.0                0.0   \n",
       "752a6d96f7                 0.0                 0.0               11.0   \n",
       "827f6afef3                 0.0                 0.0                0.0   \n",
       "346e0f766c                 0.0                 0.0               12.0   \n",
       "0addbcc79a                14.0                 0.0               19.0   \n",
       "\n",
       "            ipad_max_30days  apple_max_30days  pc_max_30days  activity_1to3  \\\n",
       "email                                                                         \n",
       "8ba752f2c5             20.0               0.0            0.0            0.0   \n",
       "752a6d96f7              0.0               0.0            4.0            0.0   \n",
       "827f6afef3              0.0               0.0            6.0            0.0   \n",
       "346e0f766c              0.0               0.0            6.0            0.0   \n",
       "0addbcc79a              0.0               0.0            6.0            0.0   \n",
       "\n",
       "            activity_1to7  activity_1to14  activity_7to14  activity_7to21  \\\n",
       "email                                                                       \n",
       "8ba752f2c5            0.0             0.0        0.000000        0.000000   \n",
       "752a6d96f7            0.0             0.0        0.005807        0.005774   \n",
       "827f6afef3            0.0             0.0        0.937031        0.832238   \n",
       "346e0f766c            0.0             0.0        0.540452        0.536714   \n",
       "0addbcc79a            0.0             0.0        0.000000        0.000000   \n",
       "\n",
       "            activity_7to30  activity_14to30  label  \n",
       "email                                               \n",
       "8ba752f2c5        0.000000         0.000000    0.0  \n",
       "752a6d96f7        0.003030         0.521792    1.0  \n",
       "827f6afef3        0.598121         0.638308    0.0  \n",
       "346e0f766c        0.316218         0.585099    1.0  \n",
       "0addbcc79a        0.000000         0.418660    0.0  "
      ]
     },
     "execution_count": 38,
     "metadata": {},
     "output_type": "execute_result"
    }
   ],
   "source": [
    "train_prepared.head()"
   ]
  },
  {
   "cell_type": "code",
   "execution_count": 39,
   "metadata": {},
   "outputs": [
    {
     "data": {
      "text/plain": [
       "(180249, 145)"
      ]
     },
     "execution_count": 39,
     "metadata": {},
     "output_type": "execute_result"
    }
   ],
   "source": [
    "train_prepared.shape"
   ]
  },
  {
   "cell_type": "code",
   "execution_count": 20,
   "metadata": {},
   "outputs": [
    {
     "data": {
      "text/plain": [
       "email\n",
       "44fdbef6e9    15\n",
       "2ca629737e    15\n",
       "0fef4eb7c8    15\n",
       "8a6867cab5    15\n",
       "8a8a7e85db    15\n",
       "dtype: int64"
      ]
     },
     "execution_count": 20,
     "metadata": {},
     "output_type": "execute_result"
    }
   ],
   "source": [
    "train_prepared.groupby('email').size().sort_values(ascending=False)[:5]"
   ]
  },
  {
   "cell_type": "markdown",
   "metadata": {},
   "source": [
    "Some email repeat have more examples."
   ]
  },
  {
   "cell_type": "code",
   "execution_count": 6,
   "metadata": {},
   "outputs": [],
   "source": [
    "train_prepared.cut_date = pd.to_datetime(train_prepared.cut_date)\n",
    "train_prepared.first_date = pd.to_datetime(train_prepared.first_date)\n",
    "train_prepared.last_date = pd.to_datetime(train_prepared.last_date)"
   ]
  },
  {
   "cell_type": "code",
   "execution_count": 7,
   "metadata": {},
   "outputs": [],
   "source": [
    "test_prepared.cut_date = pd.to_datetime(test_prepared.cut_date)\n",
    "test_prepared.first_date = pd.to_datetime(test_prepared.first_date)\n",
    "test_prepared.last_date = pd.to_datetime(test_prepared.last_date)"
   ]
  },
  {
   "cell_type": "code",
   "execution_count": 8,
   "metadata": {},
   "outputs": [],
   "source": [
    "train_prepared['dif_l_f_day'] = (train_prepared.last_date - train_prepared.first_date).apply(lambda x: x.days)\n",
    "train_prepared['dif_c_f_day'] = (train_prepared.cut_date - train_prepared.first_date).apply(lambda x: x.days)\n",
    "train_prepared['dif_l_c_day'] = (train_prepared.cut_date - train_prepared.last_date).apply(lambda x: x.days)"
   ]
  },
  {
   "cell_type": "code",
   "execution_count": 9,
   "metadata": {},
   "outputs": [],
   "source": [
    "groups_train = train_prepared.groupby([train_prepared.cut_date.apply(lambda x: x.month),\n",
    "                        train_prepared.cut_date.apply(lambda x: x.day\n",
    "                                                    )]).groups\n",
    "groups_test = test_prepared.groupby([test_prepared.cut_date.apply(lambda x: x.month),\n",
    "                        test_prepared.cut_date.apply(lambda x: x.day\n",
    "                                                    )]).groups"
   ]
  },
  {
   "cell_type": "code",
   "execution_count": 456,
   "metadata": {},
   "outputs": [
    {
     "data": {
      "image/png": "[encoded data removed]",
      "text/plain": [
       "<Figure size 1152x432 with 1 Axes>"
      ]
     },
     "metadata": {
      "needs_background": "light"
     },
     "output_type": "display_data"
    }
   ],
   "source": [
    "x_ax,y_ax = [f'{d:02} {r:02}' for r,d in groups_train.keys()],[len(i) for i in groups_train.values()]\n",
    "x2_ax, y2_ax = [f'{d:02} {r:02}' for r,d in groups_test.keys()],[len(i) for i in groups_test.values()]\n",
    "\n",
    "plt.figure(figsize=[16,6]);\n",
    "plt.title('Count examples train and test in time')\n",
    "plt.bar(x_ax,y_ax, label='train');\n",
    "plt.legend('train')\n",
    "plt.xticks(rotation=20)\n",
    "plt.bar(x2_ax, y2_ax, label='test');\n",
    "plt.legend(bbox_to_anchor=(1.05, 1), loc='upper left', borderaxespad=0.)\n",
    "plt.xticks(rotation=20);"
   ]
  },
  {
   "cell_type": "code",
   "execution_count": 10,
   "metadata": {},
   "outputs": [],
   "source": [
    "train_prepared = train_prepared.sort_values(by='cut_date')"
   ]
  },
  {
   "cell_type": "code",
   "execution_count": 11,
   "metadata": {},
   "outputs": [],
   "source": [
    "cols = [i for i in train_prepared.columns if 'date' not in i and i!= 'email']\n",
    "# cols = [i for i in train_prepared.columns if 'date' not in i]"
   ]
  },
  {
   "cell_type": "code",
   "execution_count": 12,
   "metadata": {},
   "outputs": [],
   "source": [
    "# train = train_prepared[cols]\n",
    "train = train_prepared[cols]"
   ]
  },
  {
   "cell_type": "markdown",
   "metadata": {},
   "source": [
    "### Analysis"
   ]
  },
  {
   "cell_type": "code",
   "execution_count": 465,
   "metadata": {},
   "outputs": [
    {
     "data": {
      "text/plain": [
       "<matplotlib.axes._subplots.AxesSubplot at 0x7fb673fa6ad0>"
      ]
     },
     "execution_count": 465,
     "metadata": {},
     "output_type": "execute_result"
    },
    {
     "data": {
      "image/png": "[encoded data removed]",
      "text/plain": [
       "<Figure size 432x288 with 1 Axes>"
      ]
     },
     "metadata": {
      "needs_background": "light"
     },
     "output_type": "display_data"
    }
   ],
   "source": [
    "train.groupby('label').size().plot(kind='bar')"
   ]
  },
  {
   "cell_type": "markdown",
   "metadata": {},
   "source": [
    "In the training dataset for each class label is not balanced"
   ]
  },
  {
   "cell_type": "code",
   "execution_count": 26,
   "metadata": {},
   "outputs": [
    {
     "name": "stdout",
     "output_type": "stream",
     "text": [
      "Churn Percentage = 25.909158996721203\n"
     ]
    }
   ],
   "source": [
    "y_True = train[(train.label == 1)]\n",
    "print (\"Churn Percentage = \"+str( (y_True.shape[0] / train[\"label\"].shape[0]) * 100 ))"
   ]
  },
  {
   "cell_type": "code",
   "execution_count": 39,
   "metadata": {},
   "outputs": [],
   "source": [
    "for c in train_prepared.columns:\n",
    "    if train_prepared[c].isna().any():\n",
    "        print(c, train_prepared[c].isna().sum()/train_prepared.shape[0])"
   ]
  },
  {
   "cell_type": "markdown",
   "metadata": {},
   "source": [
    "There are no nan values"
   ]
  },
  {
   "cell_type": "code",
   "execution_count": 22,
   "metadata": {},
   "outputs": [
    {
     "data": {
      "text/plain": [
       "num_country_max_7days     -0.194676\n",
       "num_title_ru_max_7days    -0.176016\n",
       "num_country_max_14days    -0.171498\n",
       "num_title_ru_sum_7days    -0.171414\n",
       "num_country_max_3days     -0.170723\n",
       "num_title_ru_sum_14days   -0.170422\n",
       "num_title_ru_max_14days   -0.166872\n",
       "num_title_ru_max_3days    -0.155283\n",
       "num_title_ru_sum_3days    -0.154305\n",
       "num_title_ep_sum_14days   -0.154157\n",
       "Name: label, dtype: float64"
      ]
     },
     "execution_count": 22,
     "metadata": {},
     "output_type": "execute_result"
    }
   ],
   "source": [
    "corr_label = train_prepared[cols].corr()['label']\n",
    "corr_label.sort_values()[:10]"
   ]
  },
  {
   "cell_type": "code",
   "execution_count": 42,
   "metadata": {},
   "outputs": [
    {
     "data": {
      "image/png": "[encoded data removed]",
      "text/plain": [
       "<Figure size 1440x864 with 9 Axes>"
      ]
     },
     "metadata": {
      "needs_background": "light"
     },
     "output_type": "display_data"
    }
   ],
   "source": [
    "train_prepared[list(corr_label.sort_values()[:8].keys()) + ['dif_l_c_day']].hist(figsize=(20,12));"
   ]
  },
  {
   "cell_type": "code",
   "execution_count": 43,
   "metadata": {},
   "outputs": [
    {
     "data": {
      "text/plain": [
       "<matplotlib.axes._subplots.AxesSubplot at 0x7eff15512590>"
      ]
     },
     "execution_count": 43,
     "metadata": {},
     "output_type": "execute_result"
    },
    {
     "data": {
      "image/png": "[encoded data removed]",
      "text/plain": [
       "<Figure size 432x288 with 1 Axes>"
      ]
     },
     "metadata": {
      "needs_background": "light"
     },
     "output_type": "display_data"
    }
   ],
   "source": [
    "sns.boxplot(train.dif_l_c_day)"
   ]
  },
  {
   "cell_type": "markdown",
   "metadata": {},
   "source": [
    "Most of features have lognormal distribution (we can get the log function on it in future)."
   ]
  },
  {
   "cell_type": "code",
   "execution_count": 50,
   "metadata": {},
   "outputs": [
    {
     "data": {
      "text/plain": [
       "<matplotlib.axes._subplots.AxesSubplot at 0x7f0029ceee10>"
      ]
     },
     "execution_count": 50,
     "metadata": {},
     "output_type": "execute_result"
    },
    {
     "data": {
      "image/png": "[encoded data removed]",
      "text/plain": [
       "<Figure size 432x288 with 1 Axes>"
      ]
     },
     "metadata": {
      "needs_background": "light"
     },
     "output_type": "display_data"
    }
   ],
   "source": [
    "sns.distplot(train[train['label'] == 1]['dif_l_c_day'])"
   ]
  },
  {
   "cell_type": "code",
   "execution_count": 51,
   "metadata": {},
   "outputs": [
    {
     "data": {
      "text/plain": [
       "<matplotlib.axes._subplots.AxesSubplot at 0x7f00277442d0>"
      ]
     },
     "execution_count": 51,
     "metadata": {},
     "output_type": "execute_result"
    },
    {
     "data": {
      "image/png": "[encoded data removed]",
      "text/plain": [
       "<Figure size 432x288 with 1 Axes>"
      ]
     },
     "metadata": {
      "needs_background": "light"
     },
     "output_type": "display_data"
    }
   ],
   "source": [
    "sns.distplot(train[train['label'] == 0]['dif_l_c_day'])"
   ]
  },
  {
   "cell_type": "code",
   "execution_count": 53,
   "metadata": {},
   "outputs": [
    {
     "data": {
      "text/html": [
       "<div>\n",
       "<style scoped>\n",
       "    .dataframe tbody tr th:only-of-type {\n",
       "        vertical-align: middle;\n",
       "    }\n",
       "\n",
       "    .dataframe tbody tr th {\n",
       "        vertical-align: top;\n",
       "    }\n",
       "\n",
       "    .dataframe thead th {\n",
       "        text-align: right;\n",
       "    }\n",
       "</style>\n",
       "<table border=\"1\" class=\"dataframe\">\n",
       "  <thead>\n",
       "    <tr style=\"text-align: right;\">\n",
       "      <th>num_country_max_14days</th>\n",
       "      <th>0.0</th>\n",
       "      <th>1.0</th>\n",
       "      <th>2.0</th>\n",
       "      <th>3.0</th>\n",
       "      <th>4.0</th>\n",
       "      <th>5.0</th>\n",
       "      <th>All</th>\n",
       "    </tr>\n",
       "    <tr>\n",
       "      <th>label</th>\n",
       "      <th></th>\n",
       "      <th></th>\n",
       "      <th></th>\n",
       "      <th></th>\n",
       "      <th></th>\n",
       "      <th></th>\n",
       "      <th></th>\n",
       "    </tr>\n",
       "  </thead>\n",
       "  <tbody>\n",
       "    <tr>\n",
       "      <th>0.0</th>\n",
       "      <td>19351</td>\n",
       "      <td>112916</td>\n",
       "      <td>1231</td>\n",
       "      <td>37</td>\n",
       "      <td>5</td>\n",
       "      <td>8</td>\n",
       "      <td>133548</td>\n",
       "    </tr>\n",
       "    <tr>\n",
       "      <th>1.0</th>\n",
       "      <td>13946</td>\n",
       "      <td>32513</td>\n",
       "      <td>233</td>\n",
       "      <td>9</td>\n",
       "      <td>0</td>\n",
       "      <td>0</td>\n",
       "      <td>46701</td>\n",
       "    </tr>\n",
       "    <tr>\n",
       "      <th>All</th>\n",
       "      <td>33297</td>\n",
       "      <td>145429</td>\n",
       "      <td>1464</td>\n",
       "      <td>46</td>\n",
       "      <td>5</td>\n",
       "      <td>8</td>\n",
       "      <td>180249</td>\n",
       "    </tr>\n",
       "  </tbody>\n",
       "</table>\n",
       "</div>"
      ],
      "text/plain": [
       "num_country_max_14days    0.0     1.0   2.0  3.0  4.0  5.0     All\n",
       "label                                                             \n",
       "0.0                     19351  112916  1231   37    5    8  133548\n",
       "1.0                     13946   32513   233    9    0    0   46701\n",
       "All                     33297  145429  1464   46    5    8  180249"
      ]
     },
     "execution_count": 53,
     "metadata": {},
     "output_type": "execute_result"
    }
   ],
   "source": [
    "pd.crosstab(train['label'], train['num_country_max_14days'], margins=True)"
   ]
  },
  {
   "cell_type": "markdown",
   "metadata": {},
   "source": [
    "## Models"
   ]
  },
  {
   "cell_type": "code",
   "execution_count": 13,
   "metadata": {},
   "outputs": [],
   "source": [
    "y = train['label']\n",
    "X = train.drop(columns=['label'])"
   ]
  },
  {
   "cell_type": "code",
   "execution_count": 70,
   "metadata": {},
   "outputs": [],
   "source": [
    "# Spot Check Algorithms\n",
    "models = []\n",
    "models.append(('LC', LogisticRegression()))\n",
    "models.append(('AdaBoostClassifier', AdaBoostClassifier()))\n",
    "models.append(('KNN', KNeighborsClassifier()))\n",
    "models.append(('CART', DecisionTreeClassifier()))\n",
    "models.append(('RandomForest', RandomForestClassifier()))\n",
    "models.append(('GB' ,GradientBoostingClassifier()))\n",
    "models.append(('LGBM',LGBMClassifier()))\n",
    "models.append(('XGB', XGBClassifier()))"
   ]
  },
  {
   "cell_type": "code",
   "execution_count": 68,
   "metadata": {},
   "outputs": [],
   "source": [
    "def my_cv(data,target,model=LogisticRegression(),score='roc_auc',val_size=0.3,make_prediction=False):\n",
    "    \"\"\"\n",
    "    Method of cross-validation which consider time stamps. Should send sorted data\n",
    "    \"\"\"\n",
    "    cv_result = []\n",
    "#     train_ind\n",
    "    \n",
    "    val_ind = round(data.shape[0]*val_size)\n",
    "    X_train_ = data.iloc[:val_ind]\n",
    "    y_train_ = target.iloc[:val_ind]\n",
    "    X_val_ = data.iloc[val_ind:]\n",
    "    y_val_ = target.iloc[val_ind:]\n",
    "#     X_val_.shape\n",
    "\n",
    "    if make_prediction:\n",
    "        model.fit(X_train_,y_train_)\n",
    "        y_pred_ = model.predict(X_val_)\n",
    "        if score == 'roc_auc':\n",
    "            res = roc_auc_score(y_val_,y_pred_)\n",
    "        elif score == 'accuracy':\n",
    "            res = accuracy_score(y_val_,y_pred_)\n",
    "        elif score == 'precision':\n",
    "            res = precision_score(y_val_,y_pred_)\n",
    "        elif score == 'recall':\n",
    "            res = recall_score(y_val_,y_pred_)\n",
    "        cv_result.append(res)\n",
    "        return np.mean(cv_result), X_train_, X_val_, y_train_, y_val_\n",
    "    else:\n",
    "        return X_train_, X_val_, y_train_, y_val_"
   ]
  },
  {
   "cell_type": "markdown",
   "metadata": {},
   "source": [
    "I could use GroupKFold in cv but in test set exist the same emails which in the train. That's why using GroupKFold it is not nessesary and I use divide by time. "
   ]
  },
  {
   "cell_type": "code",
   "execution_count": 71,
   "metadata": {},
   "outputs": [
    {
     "name": "stdout",
     "output_type": "stream",
     "text": [
      "LC roc_auc score:0.509603\n",
      "AdaBoostClassifier roc_auc score:0.552880\n",
      "KNN roc_auc score:0.544414\n",
      "CART roc_auc score:0.593538\n",
      "RandomForest roc_auc score:0.590134\n",
      "GB roc_auc score:0.551230\n",
      "LGBM roc_auc score:0.565166\n",
      "XGB roc_auc score:0.587117\n"
     ]
    }
   ],
   "source": [
    "for name, model in models:\n",
    "    cv_results = my_cv(X,y,model,score='roc_auc',val_size=0.3,make_prediction=True)\n",
    "    msg = \"%s roc_auc score:%f\" % (name, cv_results[0])\n",
    "    print(msg)"
   ]
  },
  {
   "cell_type": "markdown",
   "metadata": {},
   "source": [
    "In general roc-auc is matric with describe all features of error but we should pay more attention to getection class 1 and evoiding FN errors."
   ]
  },
  {
   "cell_type": "code",
   "execution_count": 84,
   "metadata": {},
   "outputs": [],
   "source": [
    "def make_pred(X,y,model,proba=False):\n",
    "    results = []\n",
    "    X_train, X_test, y_train, y_test = my_cv(X,y,val_size=0.3)\n",
    "#     import pdb; pdb.set_trace()\n",
    "    model.fit(X_train,y_train)\n",
    "#     import pdb; pdb.set_trace()\n",
    "    y_pred = model.predict(X_test)\n",
    "    if proba:\n",
    "        y_prob = model.predict_proba(X_test)[::,1]\n",
    "        return y_test, y_pred, y_prob\n",
    "    return y_test, y_pred"
   ]
  },
  {
   "cell_type": "code",
   "execution_count": 15,
   "metadata": {},
   "outputs": [],
   "source": [
    "def plot_conf_matrix(X,y,model,title, print_score=False):\n",
    "    y_test, y_pred = make_pred(X,y,model)\n",
    "    plt.figure()\n",
    "    grad_ens_conf_matrix = confusion_matrix(y_test, y_pred)\n",
    "    sns.heatmap(grad_ens_conf_matrix, annot=True,  fmt='')\n",
    "    plt.title(title)\n",
    "    plt.ylabel('True label')\n",
    "    plt.xlabel('Predicted label')\n",
    "    plt.show()\n",
    "    if print_score:\n",
    "        print('LogReg',':\\n {}\\n'.format(classification_report(y_test, y_pred)))"
   ]
  },
  {
   "cell_type": "code",
   "execution_count": 171,
   "metadata": {},
   "outputs": [
    {
     "data": {
      "application/vnd.jupyter.widget-view+json": {
       "model_id": "",
       "version_major": 2,
       "version_minor": 0
      },
      "text/plain": [
       "HBox(children=(FloatProgress(value=0.0, max=8.0), HTML(value='')))"
      ]
     },
     "metadata": {},
     "output_type": "display_data"
    },
    {
     "data": {
      "image/png": "[encoded data removed]",
      "text/plain": [
       "<Figure size 432x288 with 2 Axes>"
      ]
     },
     "metadata": {
      "needs_background": "light"
     },
     "output_type": "display_data"
    },
    {
     "data": {
      "image/png": "[encoded data removed]",
      "text/plain": [
       "<Figure size 432x288 with 2 Axes>"
      ]
     },
     "metadata": {
      "needs_background": "light"
     },
     "output_type": "display_data"
    },
    {
     "data": {
      "image/png": "[encoded data removed]",
      "text/plain": [
       "<Figure size 432x288 with 2 Axes>"
      ]
     },
     "metadata": {
      "needs_background": "light"
     },
     "output_type": "display_data"
    },
    {
     "data": {
      "image/png": "[encoded data removed]",
      "text/plain": [
       "<Figure size 432x288 with 2 Axes>"
      ]
     },
     "metadata": {
      "needs_background": "light"
     },
     "output_type": "display_data"
    },
    {
     "data": {
      "image/png": "[encoded data removed]",
      "text/plain": [
       "<Figure size 432x288 with 2 Axes>"
      ]
     },
     "metadata": {
      "needs_background": "light"
     },
     "output_type": "display_data"
    },
    {
     "data": {
      "image/png": "[encoded data removed]",
      "text/plain": [
       "<Figure size 432x288 with 2 Axes>"
      ]
     },
     "metadata": {
      "needs_background": "light"
     },
     "output_type": "display_data"
    },
    {
     "data": {
      "image/png": "[encoded data removed]",
      "text/plain": [
       "<Figure size 432x288 with 2 Axes>"
      ]
     },
     "metadata": {
      "needs_background": "light"
     },
     "output_type": "display_data"
    },
    {
     "data": {
      "image/png": "[encoded data removed]",
      "text/plain": [
       "<Figure size 432x288 with 2 Axes>"
      ]
     },
     "metadata": {
      "needs_background": "light"
     },
     "output_type": "display_data"
    },
    {
     "name": "stdout",
     "output_type": "stream",
     "text": [
      "\n"
     ]
    }
   ],
   "source": [
    "for name, model in tqdm_notebook(models):\n",
    "    plot_conf_matrix(X,y,model,name)"
   ]
  },
  {
   "cell_type": "markdown",
   "metadata": {},
   "source": [
    "*Choose logreg and check*"
   ]
  },
  {
   "cell_type": "code",
   "execution_count": 340,
   "metadata": {},
   "outputs": [
    {
     "data": {
      "image/png": "[encoded data removed]",
      "text/plain": [
       "<Figure size 432x288 with 2 Axes>"
      ]
     },
     "metadata": {
      "needs_background": "light"
     },
     "output_type": "display_data"
    },
    {
     "name": "stdout",
     "output_type": "stream",
     "text": [
      "LogReg :\n",
      "               precision    recall  f1-score   support\n",
      "\n",
      "         0.0       0.74      0.99      0.85     93491\n",
      "         1.0       0.56      0.03      0.05     32683\n",
      "\n",
      "    accuracy                           0.74    126174\n",
      "   macro avg       0.65      0.51      0.45    126174\n",
      "weighted avg       0.70      0.74      0.64    126174\n",
      "\n",
      "\n"
     ]
    }
   ],
   "source": [
    "plot_conf_matrix(X,y,LogisticRegression(),'logreg', True)"
   ]
  },
  {
   "cell_type": "markdown",
   "metadata": {},
   "source": [
    "Now it predict 1 very bad and there are a lot of false negative error which describe passing goals. If make some LogReg modification it can work better."
   ]
  },
  {
   "cell_type": "code",
   "execution_count": 342,
   "metadata": {},
   "outputs": [
    {
     "data": {
      "image/png": "[encoded data removed]",
      "text/plain": [
       "<Figure size 432x288 with 2 Axes>"
      ]
     },
     "metadata": {
      "needs_background": "light"
     },
     "output_type": "display_data"
    },
    {
     "name": "stdout",
     "output_type": "stream",
     "text": [
      "LogReg :\n",
      "               precision    recall  f1-score   support\n",
      "\n",
      "         0.0       0.78      0.75      0.77     93491\n",
      "         1.0       0.35      0.39      0.37     32683\n",
      "\n",
      "    accuracy                           0.66    126174\n",
      "   macro avg       0.57      0.57      0.57    126174\n",
      "weighted avg       0.67      0.66      0.66    126174\n",
      "\n",
      "\n"
     ]
    }
   ],
   "source": [
    "plot_conf_matrix(X,y,LogisticRegression(class_weight='balanced'),'logreg', True)"
   ]
  },
  {
   "cell_type": "markdown",
   "metadata": {},
   "source": [
    "A bit better with class_weight='balanced'"
   ]
  },
  {
   "cell_type": "code",
   "execution_count": 47,
   "metadata": {},
   "outputs": [],
   "source": [
    "log_X = np.log1p(X)"
   ]
  },
  {
   "cell_type": "code",
   "execution_count": 83,
   "metadata": {},
   "outputs": [],
   "source": [
    "for c in log_X.columns:\n",
    "    log_X[c] = log_X[c].replace(np.inf, np.nan).replace(-np.inf, np.nan).fillna(log_X[c].median())"
   ]
  },
  {
   "cell_type": "markdown",
   "metadata": {},
   "source": [
    "Couse a lot feats have lognormal distribution apply log function to df"
   ]
  },
  {
   "cell_type": "code",
   "execution_count": 85,
   "metadata": {},
   "outputs": [
    {
     "data": {
      "image/png": "[encoded data removed]",
      "text/plain": [
       "<Figure size 432x288 with 2 Axes>"
      ]
     },
     "metadata": {
      "needs_background": "light"
     },
     "output_type": "display_data"
    },
    {
     "name": "stdout",
     "output_type": "stream",
     "text": [
      "LogReg :\n",
      "               precision    recall  f1-score   support\n",
      "\n",
      "         0.0       0.83      0.61      0.70     93491\n",
      "         1.0       0.36      0.63      0.46     32683\n",
      "\n",
      "    accuracy                           0.62    126174\n",
      "   macro avg       0.59      0.62      0.58    126174\n",
      "weighted avg       0.71      0.62      0.64    126174\n",
      "\n",
      "\n"
     ]
    }
   ],
   "source": [
    "plot_conf_matrix(log_X,y,LogisticRegression(class_weight='balanced'),'logreg', True)"
   ]
  },
  {
   "cell_type": "markdown",
   "metadata": {},
   "source": [
    "Recall attempts to answer the following question: What proportion of actual positives was identified correctly? (in heatmap chart is FN and I user 'balansed' parameter in LogLoss to correct this). We should maximase this metric because recall measures the percentage of actual customers who may stop using the service that were correctly classified."
   ]
  },
  {
   "cell_type": "code",
   "execution_count": 107,
   "metadata": {},
   "outputs": [
    {
     "data": {
      "image/png": "[encoded data removed]",
      "text/plain": [
       "<Figure size 432x288 with 1 Axes>"
      ]
     },
     "metadata": {
      "needs_background": "light"
     },
     "output_type": "display_data"
    }
   ],
   "source": [
    "y_true_, y_pred_, y_prob_ = make_pred(X,y,LogisticRegression(class_weight='balanced'),proba=True)\n",
    "fpr, tpr, _ = roc_curve(y_test,  y_prob_)\n",
    "auc = roc_auc_score(y_test, y_prob_)\n",
    "plt.plot(fpr,tpr,label=\"data 1, auc=\"+str(auc))\n",
    "plt.legend(loc=4)\n",
    "plt.show()"
   ]
  },
  {
   "cell_type": "markdown",
   "metadata": {},
   "source": [
    "## Hyperparameter optimization"
   ]
  },
  {
   "cell_type": "code",
   "execution_count": 104,
   "metadata": {},
   "outputs": [
    {
     "name": "stdout",
     "output_type": "stream",
     "text": [
      "Fitting 5 folds for each of 12 candidates, totalling 60 fits\n"
     ]
    },
    {
     "name": "stderr",
     "output_type": "stream",
     "text": [
      "[Parallel(n_jobs=-1)]: Using backend LokyBackend with 8 concurrent workers.\n",
      "[Parallel(n_jobs=-1)]: Done  34 tasks      | elapsed:   27.5s\n",
      "[Parallel(n_jobs=-1)]: Done  60 out of  60 | elapsed:   50.2s finished\n"
     ]
    }
   ],
   "source": [
    "pipe = Pipeline([('classifier' , LogisticRegression())])\n",
    "# Create param grid.\n",
    "X_train, X_test, y_train, y_test = train_test_split(log_X,y,test_size=0.3,random_state=17)\n",
    "\n",
    "param_grid = [\n",
    "    {'classifier' : [LogisticRegression(class_weight='balanced')],\n",
    "     'classifier__penalty' : ['l1', 'l2'],\n",
    "    'classifier__C' :[3,1,0.1,0.01,0.03,0.001],\n",
    "    'classifier__solver' : ['lbfgs']}\n",
    "]\n",
    "\n",
    "# Create grid search object\n",
    "clf = GridSearchCV(pipe, param_grid = param_grid, cv = 5, verbose=True, n_jobs=-1, scoring='recall')\n",
    "\n",
    "# Fit on data\n",
    "best_clf = clf.fit(X_train, y_train)"
   ]
  },
  {
   "cell_type": "code",
   "execution_count": 315,
   "metadata": {},
   "outputs": [
    {
     "data": {
      "text/plain": [
       "LogisticRegression(C=0.1, class_weight='balanced', dual=False,\n",
       "                   fit_intercept=True, intercept_scaling=1, l1_ratio=None,\n",
       "                   max_iter=100, multi_class='auto', n_jobs=None, penalty='l2',\n",
       "                   random_state=None, solver='lbfgs', tol=0.0001, verbose=0,\n",
       "                   warm_start=False)"
      ]
     },
     "execution_count": 315,
     "metadata": {},
     "output_type": "execute_result"
    }
   ],
   "source": [
    "best_clf.best_params_['classifier']"
   ]
  },
  {
   "cell_type": "code",
   "execution_count": 107,
   "metadata": {},
   "outputs": [],
   "source": [
    "res = (\n",
    "    pd.DataFrame({\n",
    "        \"mean_test_score\": best_clf.cv_results_[\"mean_test_score\"],\n",
    "        \"mean_fit_time\": best_clf.cv_results_[\"mean_fit_time\"]})\n",
    "      .join(pd.io.json.json_normalize(best_clf.cv_results_[\"params\"]).add_prefix(\"param_\"))\n",
    ")"
   ]
  },
  {
   "cell_type": "markdown",
   "metadata": {},
   "source": [
    "Logges feats with recall score"
   ]
  },
  {
   "cell_type": "code",
   "execution_count": 347,
   "metadata": {},
   "outputs": [
    {
     "data": {
      "image/png": "[encoded data removed]",
      "text/plain": [
       "<Figure size 432x288 with 2 Axes>"
      ]
     },
     "metadata": {
      "needs_background": "light"
     },
     "output_type": "display_data"
    },
    {
     "name": "stdout",
     "output_type": "stream",
     "text": [
      "LogReg :\n",
      "               precision    recall  f1-score   support\n",
      "\n",
      "         0.0       0.82      0.62      0.71     93491\n",
      "         1.0       0.36      0.62      0.46     32683\n",
      "\n",
      "    accuracy                           0.62    126174\n",
      "   macro avg       0.59      0.62      0.58    126174\n",
      "weighted avg       0.70      0.62      0.64    126174\n",
      "\n",
      "\n"
     ]
    }
   ],
   "source": [
    "plot_conf_matrix(log_X,y,best_clf.best_params_['classifier'],'logreg',True)"
   ]
  },
  {
   "cell_type": "code",
   "execution_count": 49,
   "metadata": {},
   "outputs": [
    {
     "data": {
      "image/png": "[encoded data removed]",
      "text/plain": [
       "<IPython.core.display.Image object>"
      ]
     },
     "execution_count": 49,
     "metadata": {},
     "output_type": "execute_result"
    }
   ],
   "source": [
    "Image(filename='table.png') "
   ]
  },
  {
   "cell_type": "code",
   "execution_count": 50,
   "metadata": {},
   "outputs": [
    {
     "data": {
      "image/png": "[encoded data removed]",
      "text/plain": [
       "<IPython.core.display.Image object>"
      ]
     },
     "execution_count": 50,
     "metadata": {},
     "output_type": "execute_result"
    }
   ],
   "source": [
    "Image(filename='ClassificationMetrics.png') "
   ]
  },
  {
   "cell_type": "markdown",
   "metadata": {},
   "source": [
    "### OverSampling"
   ]
  },
  {
   "cell_type": "markdown",
   "metadata": {},
   "source": [
    "One way to fight with class imbalance is to generate new samples in the classes which are under-represented. The most naive strategy is to generate new samples by randomly sampling with replacement the current available samples. "
   ]
  },
  {
   "cell_type": "code",
   "execution_count": 358,
   "metadata": {},
   "outputs": [
    {
     "data": {
      "text/plain": [
       "0.0    133548\n",
       "1.0    133548\n",
       "Name: label, dtype: int64"
      ]
     },
     "execution_count": 358,
     "metadata": {},
     "output_type": "execute_result"
    }
   ],
   "source": [
    "ros = RandomOverSampler(random_state=0)\n",
    "X_resampled, y_resampled = ros.fit_resample(X, y)\n",
    "\n",
    "pd.value_counts(y_resampled)"
   ]
  },
  {
   "cell_type": "code",
   "execution_count": 354,
   "metadata": {},
   "outputs": [
    {
     "data": {
      "image/png": "[encoded data removed]",
      "text/plain": [
       "<Figure size 432x288 with 2 Axes>"
      ]
     },
     "metadata": {
      "needs_background": "light"
     },
     "output_type": "display_data"
    }
   ],
   "source": [
    "plot_conf_matrix(X_resampled,y_resampled,best_clf.best_params_['classifier'],'logreg')"
   ]
  },
  {
   "cell_type": "code",
   "execution_count": 359,
   "metadata": {},
   "outputs": [],
   "source": [
    "log_X_res = np.log1p(X_resampled)\n",
    "for c in log_X_res.columns:\n",
    "    log_X_res[c] = log_X_res[c].replace([np.inf, -np.inf], np.nan).fillna(log_X_res[c].median())"
   ]
  },
  {
   "cell_type": "code",
   "execution_count": 360,
   "metadata": {},
   "outputs": [
    {
     "data": {
      "image/png": "[encoded data removed]",
      "text/plain": [
       "<Figure size 432x288 with 2 Axes>"
      ]
     },
     "metadata": {
      "needs_background": "light"
     },
     "output_type": "display_data"
    },
    {
     "name": "stdout",
     "output_type": "stream",
     "text": [
      "LogReg :\n",
      "               precision    recall  f1-score   support\n",
      "\n",
      "         0.0       0.52      0.62      0.57     74323\n",
      "         1.0       0.71      0.62      0.66    112644\n",
      "\n",
      "    accuracy                           0.62    186967\n",
      "   macro avg       0.62      0.62      0.61    186967\n",
      "weighted avg       0.64      0.62      0.62    186967\n",
      "\n",
      "\n"
     ]
    }
   ],
   "source": [
    "plot_conf_matrix(log_X_res,y_resampled,best_clf.best_params_['classifier'],'logreg',print_score=True)"
   ]
  },
  {
   "cell_type": "markdown",
   "metadata": {},
   "source": [
    "**Other type of oversampling**"
   ]
  },
  {
   "cell_type": "code",
   "execution_count": 89,
   "metadata": {},
   "outputs": [
    {
     "data": {
      "text/plain": [
       "0.0    133548\n",
       "1.0    133548\n",
       "Name: label, dtype: int64"
      ]
     },
     "execution_count": 89,
     "metadata": {},
     "output_type": "execute_result"
    }
   ],
   "source": [
    "smote = SMOTE()\n",
    "X_resampled_smote, y_resampled_smote = smote.fit_resample(X, y)\n",
    "\n",
    "pd.value_counts(y_resampled_smote)"
   ]
  },
  {
   "cell_type": "code",
   "execution_count": 93,
   "metadata": {},
   "outputs": [
    {
     "data": {
      "image/png": "[encoded data removed]",
      "text/plain": [
       "<Figure size 432x288 with 2 Axes>"
      ]
     },
     "metadata": {
      "needs_background": "light"
     },
     "output_type": "display_data"
    },
    {
     "name": "stdout",
     "output_type": "stream",
     "text": [
      "LogReg :\n",
      "               precision    recall  f1-score   support\n",
      "\n",
      "         0.0       0.44      0.74      0.55     74323\n",
      "         1.0       0.69      0.38      0.49    112644\n",
      "\n",
      "    accuracy                           0.53    186967\n",
      "   macro avg       0.57      0.56      0.52    186967\n",
      "weighted avg       0.59      0.53      0.52    186967\n",
      "\n",
      "\n"
     ]
    }
   ],
   "source": [
    "plot_conf_matrix(X_resampled_smote,y_resampled_smote,LogisticRegression(C=0.1, class_weight='balanced', dual=False,\n",
    "                   fit_intercept=True, intercept_scaling=1, l1_ratio=None,\n",
    "                   max_iter=100, multi_class='auto', n_jobs=None, penalty='l2',\n",
    "                   random_state=None, solver='lbfgs', tol=0.0001, verbose=0,\n",
    "                   warm_start=False),'logreg', True)"
   ]
  },
  {
   "cell_type": "code",
   "execution_count": 91,
   "metadata": {},
   "outputs": [],
   "source": [
    "log_X_smote = np.log1p(X_resampled_smote)\n",
    "for c in log_X_smote.columns:\n",
    "    log_X_smote[c] = log_X_smote[c].replace([np.inf, -np.inf], np.nan).fillna(log_X_smote[c].median())"
   ]
  },
  {
   "cell_type": "code",
   "execution_count": 386,
   "metadata": {},
   "outputs": [
    {
     "data": {
      "image/png": "[encoded data removed]",
      "text/plain": [
       "<Figure size 432x288 with 2 Axes>"
      ]
     },
     "metadata": {
      "needs_background": "light"
     },
     "output_type": "display_data"
    },
    {
     "name": "stdout",
     "output_type": "stream",
     "text": [
      "LogReg :\n",
      "               precision    recall  f1-score   support\n",
      "\n",
      "         0.0       0.53      0.62      0.57     74323\n",
      "         1.0       0.72      0.64      0.68    112644\n",
      "\n",
      "    accuracy                           0.63    186967\n",
      "   macro avg       0.62      0.63      0.62    186967\n",
      "weighted avg       0.64      0.63      0.63    186967\n",
      "\n",
      "\n"
     ]
    }
   ],
   "source": [
    "plot_conf_matrix(log_X_smote,y_resampled_smote,best_clf.best_params_['classifier'],'logreg', True)"
   ]
  },
  {
   "cell_type": "markdown",
   "metadata": {},
   "source": [
    "## Important feats"
   ]
  },
  {
   "cell_type": "code",
   "execution_count": 68,
   "metadata": {},
   "outputs": [],
   "source": [
    "feat_imp = dict(zip(X.columns,clf_final.coef_.tolist()[0]))"
   ]
  },
  {
   "cell_type": "code",
   "execution_count": 71,
   "metadata": {},
   "outputs": [],
   "source": [
    "feat_imp = {k: v for k, v in sorted(feat_imp.items(), key=lambda item: item[1])}"
   ]
  },
  {
   "cell_type": "code",
   "execution_count": 78,
   "metadata": {},
   "outputs": [
    {
     "data": {
      "text/plain": [
       "['num_country_max_3days',\n",
       " 'apple_max_30days',\n",
       " 'num_title_ep_sum_14days',\n",
       " 'dif_c_f_day',\n",
       " 'top_8_sum_14days',\n",
       " 'top_10_sum_3days',\n",
       " 'num_country_max_30days',\n",
       " 'num_title_ru_sum_3days',\n",
       " 'top_10_sum_21days',\n",
       " 'num_title_ru_max_7days',\n",
       " 'apple_max_21days',\n",
       " 'top_8_sum_7days',\n",
       " 'num_title_ru_sum_7days',\n",
       " 'num_country_max_14days',\n",
       " 'apple_max_3days',\n",
       " 'num_title_ru_max_3days',\n",
       " 'num_country_max_21days',\n",
       " 'top_10_sum_14days',\n",
       " 'num_country_max_7days',\n",
       " 'num_country_max_1days']"
      ]
     },
     "execution_count": 78,
     "metadata": {},
     "output_type": "execute_result"
    }
   ],
   "source": [
    "list(feat_imp.keys())[:10]+list(feat_imp.keys())[-10:]"
   ]
  },
  {
   "cell_type": "code",
   "execution_count": 81,
   "metadata": {},
   "outputs": [
    {
     "data": {
      "image/png": "[encoded data removed]",
      "text/plain": [
       "<Figure size 576x576 with 1 Axes>"
      ]
     },
     "metadata": {
      "needs_background": "light"
     },
     "output_type": "display_data"
    }
   ],
   "source": [
    "plt.figure(figsize=(8,8))\n",
    "plt.title(\"Feature importances\")\n",
    "names_cols = list(feat_imp.keys())[:10]+list(feat_imp.keys())[-10:]\n",
    "plt.bar(names_cols,\n",
    "        list(feat_imp.values())[:10]+list(feat_imp.values())[-10:],\n",
    "        color=\"r\", align=\"center\")\n",
    "plt.xticks(rotation='vertical')\n",
    "plt.xlim([-1, len(names_cols)])\n",
    "plt.show()"
   ]
  },
  {
   "cell_type": "code",
   "execution_count": null,
   "metadata": {},
   "outputs": [],
   "source": [
    "# more_imp_col = [c for c, v in feat_imp.items() if np.abs(v) > 0.1]"
   ]
  },
  {
   "cell_type": "markdown",
   "metadata": {},
   "source": [
    "### Make prediction"
   ]
  },
  {
   "cell_type": "code",
   "execution_count": 375,
   "metadata": {},
   "outputs": [],
   "source": [
    "test_submit_example = pd.read_csv('data/test_submit_example.csv')"
   ]
  },
  {
   "cell_type": "code",
   "execution_count": 377,
   "metadata": {},
   "outputs": [
    {
     "data": {
      "text/html": [
       "<div>\n",
       "<style scoped>\n",
       "    .dataframe tbody tr th:only-of-type {\n",
       "        vertical-align: middle;\n",
       "    }\n",
       "\n",
       "    .dataframe tbody tr th {\n",
       "        vertical-align: top;\n",
       "    }\n",
       "\n",
       "    .dataframe thead th {\n",
       "        text-align: right;\n",
       "    }\n",
       "</style>\n",
       "<table border=\"1\" class=\"dataframe\">\n",
       "  <thead>\n",
       "    <tr style=\"text-align: right;\">\n",
       "      <th></th>\n",
       "      <th>email</th>\n",
       "      <th>prediction</th>\n",
       "    </tr>\n",
       "  </thead>\n",
       "  <tbody>\n",
       "    <tr>\n",
       "      <th>0</th>\n",
       "      <td>e98a93bfc7</td>\n",
       "      <td>0.001</td>\n",
       "    </tr>\n",
       "    <tr>\n",
       "      <th>1</th>\n",
       "      <td>d813ccb3f5</td>\n",
       "      <td>0.001</td>\n",
       "    </tr>\n",
       "    <tr>\n",
       "      <th>2</th>\n",
       "      <td>3d07a90a91</td>\n",
       "      <td>0.001</td>\n",
       "    </tr>\n",
       "    <tr>\n",
       "      <th>3</th>\n",
       "      <td>5791e966d8</td>\n",
       "      <td>0.001</td>\n",
       "    </tr>\n",
       "    <tr>\n",
       "      <th>4</th>\n",
       "      <td>d982336d49</td>\n",
       "      <td>0.001</td>\n",
       "    </tr>\n",
       "  </tbody>\n",
       "</table>\n",
       "</div>"
      ],
      "text/plain": [
       "        email  prediction\n",
       "0  e98a93bfc7       0.001\n",
       "1  d813ccb3f5       0.001\n",
       "2  3d07a90a91       0.001\n",
       "3  5791e966d8       0.001\n",
       "4  d982336d49       0.001"
      ]
     },
     "execution_count": 377,
     "metadata": {},
     "output_type": "execute_result"
    }
   ],
   "source": [
    "test_submit_example.head()"
   ]
  },
  {
   "cell_type": "code",
   "execution_count": 95,
   "metadata": {},
   "outputs": [],
   "source": [
    "def prep_data(df, train=True):\n",
    "    df.cut_date = pd.to_datetime(df.cut_date)\n",
    "    df.first_date = pd.to_datetime(df.first_date)\n",
    "    df.last_date = pd.to_datetime(df.last_date)\n",
    "    df['dif_l_f_day'] = (df.last_date - df.first_date).apply(lambda x: x.days)\n",
    "    df['dif_c_f_day'] = (df.cut_date - df.first_date).apply(lambda x: x.days)\n",
    "    df['dif_l_c_day'] = (df.cut_date - df.last_date).apply(lambda x: x.days)\n",
    "    cols = [i for i in df.columns if 'date' not in i]\n",
    "    df = df[cols].set_index('email')\n",
    "    if train:\n",
    "        y = df['label']\n",
    "        X = df.drop(columns=['label'])\n",
    "        smote = SMOTE()\n",
    "        X_resampled_smote, y_resampled_smote = smote.fit_resample(X, y)\n",
    "        log_X_smote = np.log1p(X_resampled_smote)\n",
    "        for c in log_X_smote.columns:\n",
    "            log_X_smote[c] = log_X_smote[c].replace([np.inf, -np.inf], np.nan).fillna(log_X_smote[c].median())\n",
    "        return log_X_smote, y_resampled_smote\n",
    "    else:\n",
    "        log_X = np.log1p(df)\n",
    "        log_X = log_X.replace([np.inf, -np.inf], np.nan).fillna(0)\n",
    "        for c in log_X.columns:\n",
    "            log_X[c] = log_X[c].replace([np.inf, -np.inf], np.nan).fillna(log_X[c].median())\n",
    "        return log_X"
   ]
  },
  {
   "cell_type": "code",
   "execution_count": 96,
   "metadata": {},
   "outputs": [],
   "source": [
    "X, y = prep_data(train_prepared)"
   ]
  },
  {
   "cell_type": "code",
   "execution_count": 104,
   "metadata": {},
   "outputs": [],
   "source": [
    "def fit(X, y, model):\n",
    "    X, y = prep_data(train_prepared)\n",
    "    model = model\n",
    "    model.fit(X, y)\n",
    "    return model"
   ]
  },
  {
   "cell_type": "code",
   "execution_count": 107,
   "metadata": {},
   "outputs": [],
   "source": [
    "def predict(X_test, fit_model, submit=False):\n",
    "#     s = dat\n",
    "    X_test_prep = prep_data(X_test, train=False)\n",
    "    preds = fit_model.predict_proba(X_test_prep)\n",
    "    if submit:\n",
    "        pred_df = pd.DataFrame({'email': X_test_prep.index, 'prediction' : preds[:,1]})\n",
    "        pred_df.to_csv('submit.csv')\n",
    "    else:\n",
    "        return preds"
   ]
  },
  {
   "cell_type": "code",
   "execution_count": 105,
   "metadata": {},
   "outputs": [],
   "source": [
    "model = fit(X, y, best_clf.best_params_['classifier'])"
   ]
  },
  {
   "cell_type": "code",
   "execution_count": 109,
   "metadata": {},
   "outputs": [],
   "source": [
    "pred = predict(test_prepared, fit_model=model, submit=True)"
   ]
  }
 ],
 "metadata": {
  "kernelspec": {
   "display_name": "Python 3",
   "language": "python",
   "name": "python3"
  },
  "language_info": {
   "codemirror_mode": {
    "name": "ipython",
    "version": 3
   },
   "file_extension": ".py",
   "mimetype": "text/x-python",
   "name": "python",
   "nbconvert_exporter": "python",
   "pygments_lexer": "ipython3",
   "version": "3.7.6"
  }
 },
 "nbformat": 4,
 "nbformat_minor": 2
}
